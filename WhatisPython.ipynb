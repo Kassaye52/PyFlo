{
 "cells": [
  {
   "cell_type": "code",
   "execution_count": 1,
   "metadata": {},
   "outputs": [
    {
     "name": "stdout",
     "output_type": "stream",
     "text": [
      "You should get a new passport\n"
     ]
    }
   ],
   "source": [
    "import time\n",
    "current_year = int(time.strftime(\"%Y\"))\n",
    "recieved_year = int(input('What year did you get your passport? '))\n",
    "if recieved_year + 10 < current_year:\n",
    "    print(\"You should get a new passport\")\n",
    "else:\n",
    "    print(\"you can use your current passport\")"
   ]
  },
  {
   "cell_type": "markdown",
   "metadata": {},
   "source": [
    "#### Printing\n",
    "The standard output of a program is an output stream that words and other text can be printed to by a program, and then displayed on the screen by your IDE."
   ]
  },
  {
   "cell_type": "code",
   "execution_count": 2,
   "metadata": {},
   "outputs": [
    {
     "name": "stdout",
     "output_type": "stream",
     "text": [
      "The big black box\n"
     ]
    }
   ],
   "source": [
    "print(\"The big black box\")"
   ]
  },
  {
   "cell_type": "code",
   "execution_count": 3,
   "metadata": {},
   "outputs": [
    {
     "name": "stdout",
     "output_type": "stream",
     "text": [
      "the\n",
      "big\n",
      "black\n",
      "box\n"
     ]
    }
   ],
   "source": [
    "print(\"the\")\n",
    "print('big')\n",
    "print(\"black\")\n",
    "print('box')"
   ]
  },
  {
   "cell_type": "code",
   "execution_count": 4,
   "metadata": {},
   "outputs": [
    {
     "name": "stdout",
     "output_type": "stream",
     "text": [
      "the\n",
      "big\n",
      "black\n",
      "box\n"
     ]
    }
   ],
   "source": [
    "print(\"the\\nbig\\nblack\\nbox\")"
   ]
  },
  {
   "cell_type": "code",
   "execution_count": 5,
   "metadata": {},
   "outputs": [
    {
     "name": "stdout",
     "output_type": "stream",
     "text": [
      "the big\n",
      "black box\n"
     ]
    }
   ],
   "source": [
    "print('the big\\nblack box')"
   ]
  },
  {
   "cell_type": "code",
   "execution_count": 6,
   "metadata": {},
   "outputs": [
    {
     "name": "stdout",
     "output_type": "stream",
     "text": [
      "the\n",
      "big \n",
      "\n",
      " black\n",
      "box\n"
     ]
    }
   ],
   "source": [
    "print(\"the\")\n",
    "print(\"big \\n\\n black\")\n",
    "print(\"box\")"
   ]
  },
  {
   "cell_type": "code",
   "execution_count": 7,
   "metadata": {},
   "outputs": [
    {
     "name": "stdout",
     "output_type": "stream",
     "text": [
      "the big black box "
     ]
    }
   ],
   "source": [
    "print(\"the\", end=' ')\n",
    "print('big', end=' ')\n",
    "print(\"black\", end=' ')\n",
    "print('box', end=' ')"
   ]
  },
  {
   "cell_type": "markdown",
   "metadata": {},
   "source": [
    "### More Printing in Python"
   ]
  },
  {
   "cell_type": "code",
   "execution_count": 8,
   "metadata": {},
   "outputs": [
    {
     "ename": "SyntaxError",
     "evalue": "EOL while scanning string literal (1880770376.py, line 1)",
     "output_type": "error",
     "traceback": [
      "\u001b[0;36m  File \u001b[0;32m\"/var/folders/76/xs74b8wd5y1d4jslcyz534sh0000gn/T/ipykernel_89729/1880770376.py\"\u001b[0;36m, line \u001b[0;32m1\u001b[0m\n\u001b[0;31m    print('the\u001b[0m\n\u001b[0m              ^\u001b[0m\n\u001b[0;31mSyntaxError\u001b[0m\u001b[0;31m:\u001b[0m EOL while scanning string literal\n"
     ]
    }
   ],
   "source": [
    "print('the\n",
    "big\n",
    "black\n",
    "box')"
   ]
  },
  {
   "cell_type": "code",
   "execution_count": 9,
   "metadata": {},
   "outputs": [
    {
     "name": "stdout",
     "output_type": "stream",
     "text": [
      "the\n",
      "big\n",
      "black\n",
      "box\n"
     ]
    }
   ],
   "source": [
    "print('''the\n",
    "big\n",
    "black\n",
    "box''')"
   ]
  },
  {
   "cell_type": "code",
   "execution_count": 10,
   "metadata": {},
   "outputs": [
    {
     "name": "stdout",
     "output_type": "stream",
     "text": [
      "There once was a fellow\n",
      "Who came from the meadow\n",
      "And desired to settle\n",
      "In caves of yellow\n"
     ]
    }
   ],
   "source": [
    "print(\"\"\"There once was a fellow\n",
    "Who came from the meadow\n",
    "And desired to settle\n",
    "In caves of yellow\"\"\")"
   ]
  },
  {
   "cell_type": "markdown",
   "metadata": {},
   "source": [
    "## Variables and Concatenation\n"
   ]
  },
  {
   "cell_type": "code",
   "execution_count": 11,
   "metadata": {},
   "outputs": [
    {
     "name": "stdout",
     "output_type": "stream",
     "text": [
      "John: Hi Luke, long time since we talked last.\n",
      "Luke: Hi John! How have you been?\n",
      "John: I have been well. Do you wanna go get lunch?\n",
      "Luke: Yes!\n",
      "John: Great, we can meet at In-n-Out burger next week\n"
     ]
    }
   ],
   "source": [
    "print('John: Hi Luke, long time since we talked last.')\n",
    "print('Luke: Hi John! How have you been?')\n",
    "print('John: I have been well. Do you wanna go get lunch?')\n",
    "print('Luke: Yes!')\n",
    "print('John: Great, we can meet at In-n-Out burger next week')"
   ]
  },
  {
   "cell_type": "code",
   "execution_count": 12,
   "metadata": {},
   "outputs": [
    {
     "name": "stdout",
     "output_type": "stream",
     "text": [
      "James: Hi Luke, long time since we talked last.\n",
      "Luke: Hi James! How have you been?\n",
      "James: I have been well. Do you wanna go get lunch?\n",
      "Luke: Yes!\n",
      "James: Great, we can meet at In-n-Out burger next week\n"
     ]
    }
   ],
   "source": [
    "print('James: Hi Luke, long time since we talked last.')\n",
    "print('Luke: Hi James! How have you been?')\n",
    "print('James: I have been well. Do you wanna go get lunch?')\n",
    "print('Luke: Yes!')\n",
    "print('James: Great, we can meet at In-n-Out burger next week')"
   ]
  },
  {
   "cell_type": "code",
   "execution_count": 13,
   "metadata": {},
   "outputs": [
    {
     "name": "stdout",
     "output_type": "stream",
     "text": [
      "John: Hi Luke, long time since we talked last.\n",
      "Luke: Hi John! How have you been?\n",
      "John: I have been well. Do you wanna go get lunch?\n",
      "Luke: Yes!\n",
      "John: Great, we can meet at In-n-Out burger next week\n"
     ]
    }
   ],
   "source": [
    "character_1 = 'John'\n",
    "character_2 = 'Luke'\n",
    "print(character_1 + ': Hi ' + character_2 + ', long time since we talked last.')\n",
    "print(character_2 + ': Hi ' + character_1 + '! How have you been?')\n",
    "print(character_1 + ': I have been well. Do you wanna go get lunch?')\n",
    "print(character_2 + ': Yes!')\n",
    "print(character_1 + ': Great, we can meet at In-n-Out burger next week')"
   ]
  },
  {
   "cell_type": "code",
   "execution_count": 14,
   "metadata": {},
   "outputs": [
    {
     "name": "stdout",
     "output_type": "stream",
     "text": [
      "onetwentyone\n"
     ]
    }
   ],
   "source": [
    "print('one' + 'twenty' + 'one')"
   ]
  },
  {
   "cell_type": "code",
   "execution_count": 15,
   "metadata": {},
   "outputs": [
    {
     "name": "stdout",
     "output_type": "stream",
     "text": [
      "bear cheetah\n",
      "bearcheetah\n"
     ]
    }
   ],
   "source": [
    "value_1 = 'bear'\n",
    "value_2 = 'cheetah'\n",
    "print(value_1, value_2)\n",
    "print(value_1 + value_2)"
   ]
  },
  {
   "cell_type": "markdown",
   "metadata": {},
   "source": [
    "## The Input Function"
   ]
  },
  {
   "cell_type": "code",
   "execution_count": 16,
   "metadata": {},
   "outputs": [
    {
     "data": {
      "text/plain": [
       "'Smyth Hall'"
      ]
     },
     "execution_count": 16,
     "metadata": {},
     "output_type": "execute_result"
    }
   ],
   "source": [
    "input(\"Type an address: \")"
   ]
  },
  {
   "cell_type": "code",
   "execution_count": 17,
   "metadata": {},
   "outputs": [
    {
     "name": "stdout",
     "output_type": "stream",
     "text": [
      "James: Hi Luke, long time since we talked last.\n",
      "Luke: Hi James! How have you been?\n",
      "James: I have been well. Do you wanna go get lunch?\n",
      "Luke: Yes!\n",
      "James: Great, we can meet at In-n-Out burger next week\n"
     ]
    }
   ],
   "source": [
    "character_1 = 'James'\n",
    "character_2 = 'Luke'\n",
    "print(character_1 + ': Hi ' + character_2 + ', long time since we talked last.')\n",
    "print(character_2 + ': Hi ' + character_1 + '! How have you been?')\n",
    "print(character_1 + ': I have been well. Do you wanna go get lunch?')\n",
    "print(character_2 + ': Yes!')\n",
    "print(character_1 + ': Great, we can meet at In-n-Out burger next week')"
   ]
  },
  {
   "cell_type": "code",
   "execution_count": 18,
   "metadata": {},
   "outputs": [
    {
     "name": "stdout",
     "output_type": "stream",
     "text": [
      "Ashe: Hi Kassayeb, long time since we talked last.\n",
      "Kassayeb: Hi Ashe! How have you been?\n",
      "Ashe: I have been well. Do you wanna go get lunch?\n",
      "Kassayeb: Yes!\n",
      "Ashe: Great, we can meet at In-n-Out burger next week\n"
     ]
    }
   ],
   "source": [
    "character_1 = input('Name for character 1: ')\n",
    "character_2 = input('Name for character 2: ')\n",
    "print(character_1 + ': Hi ' + character_2 + ', long time since we talked last.')\n",
    "print(character_2 + ': Hi ' + character_1 + '! How have you been?')\n",
    "print(character_1 + ': I have been well. Do you wanna go get lunch?')\n",
    "print(character_2 + ': Yes!')\n",
    "print(character_1 + ': Great, we can meet at In-n-Out burger next week')"
   ]
  },
  {
   "cell_type": "code",
   "execution_count": 19,
   "metadata": {},
   "outputs": [
    {
     "name": "stdout",
     "output_type": "stream",
     "text": [
      "  *\n",
      " ***\n",
      "*****\n",
      "  |  \n"
     ]
    }
   ],
   "source": [
    "print('  *')\n",
    "print(' ***')\n",
    "print('*****')\n",
    "print('  |  ')"
   ]
  },
  {
   "cell_type": "code",
   "execution_count": 20,
   "metadata": {},
   "outputs": [
    {
     "name": "stdout",
     "output_type": "stream",
     "text": [
      "  A\n",
      " AAA\n",
      "AAAAA\n",
      "  |  \n"
     ]
    }
   ],
   "source": [
    "letter = input('Type a letter to use for the Christmas tree: ')\n",
    "print('  ' + letter)\n",
    "print(' ' + letter + letter + letter)\n",
    "print(letter + letter + letter + letter + letter)\n",
    "print('  |  ')"
   ]
  },
  {
   "cell_type": "markdown",
   "metadata": {},
   "source": [
    "### Integers"
   ]
  },
  {
   "cell_type": "code",
   "execution_count": 21,
   "metadata": {},
   "outputs": [],
   "source": [
    "name = 'Pierre'\n",
    "email = 'pierre@gmail.com'\n",
    "age = 50\n",
    "height = 72"
   ]
  },
  {
   "cell_type": "code",
   "execution_count": 23,
   "metadata": {},
   "outputs": [
    {
     "name": "stdout",
     "output_type": "stream",
     "text": [
      "His name is Pierre\n",
      "Pierre can be contacted at pierre@gmail.com\n",
      "He is 50 years old and is 72 inches tall\n"
     ]
    }
   ],
   "source": [
    "print('His name is ' + name)\n",
    "print(name + ' can be contacted at ' + email)\n",
    "print('He is ' + str(age) + ' years old and is ' + str(height) + ' inches tall')"
   ]
  },
  {
   "cell_type": "code",
   "execution_count": 24,
   "metadata": {},
   "outputs": [
    {
     "ename": "TypeError",
     "evalue": "unsupported operand type(s) for -: 'str' and 'str'",
     "output_type": "error",
     "traceback": [
      "\u001b[0;31m---------------------------------------------------------------------------\u001b[0m",
      "\u001b[0;31mTypeError\u001b[0m                                 Traceback (most recent call last)",
      "\u001b[0;32m/var/folders/76/xs74b8wd5y1d4jslcyz534sh0000gn/T/ipykernel_89729/2602182525.py\u001b[0m in \u001b[0;36m<module>\u001b[0;34m\u001b[0m\n\u001b[1;32m      1\u001b[0m \u001b[0mrevenue\u001b[0m \u001b[0;34m=\u001b[0m \u001b[0minput\u001b[0m\u001b[0;34m(\u001b[0m\u001b[0;34m'Business revenue: '\u001b[0m\u001b[0;34m)\u001b[0m\u001b[0;34m\u001b[0m\u001b[0;34m\u001b[0m\u001b[0m\n\u001b[1;32m      2\u001b[0m \u001b[0mcost\u001b[0m \u001b[0;34m=\u001b[0m \u001b[0minput\u001b[0m\u001b[0;34m(\u001b[0m\u001b[0;34m'Business costs: '\u001b[0m\u001b[0;34m)\u001b[0m\u001b[0;34m\u001b[0m\u001b[0;34m\u001b[0m\u001b[0m\n\u001b[0;32m----> 3\u001b[0;31m \u001b[0mprofit\u001b[0m \u001b[0;34m=\u001b[0m \u001b[0mrevenue\u001b[0m \u001b[0;34m-\u001b[0m \u001b[0mcost\u001b[0m\u001b[0;34m\u001b[0m\u001b[0;34m\u001b[0m\u001b[0m\n\u001b[0m\u001b[1;32m      4\u001b[0m \u001b[0mprint\u001b[0m\u001b[0;34m(\u001b[0m\u001b[0;34m'The business profit is: '\u001b[0m \u001b[0;34m+\u001b[0m \u001b[0mstr\u001b[0m\u001b[0;34m(\u001b[0m\u001b[0mprofit\u001b[0m\u001b[0;34m)\u001b[0m\u001b[0;34m)\u001b[0m\u001b[0;34m\u001b[0m\u001b[0;34m\u001b[0m\u001b[0m\n",
      "\u001b[0;31mTypeError\u001b[0m: unsupported operand type(s) for -: 'str' and 'str'"
     ]
    }
   ],
   "source": [
    "revenue = input('Business revenue: ')\n",
    "cost = input('Business costs: ')\n",
    "profit = revenue - cost\n",
    "print('The business profit is: ' + str(profit))"
   ]
  },
  {
   "cell_type": "code",
   "execution_count": 25,
   "metadata": {},
   "outputs": [
    {
     "name": "stdout",
     "output_type": "stream",
     "text": [
      "The business profit is: 25\n"
     ]
    }
   ],
   "source": [
    "revenue = input('Business revenue: ')\n",
    "cost = input('Business costs: ')\n",
    "profit = int(revenue) - int(cost)\n",
    "print('The business profit is: ' + str(profit))"
   ]
  },
  {
   "cell_type": "code",
   "execution_count": 26,
   "metadata": {},
   "outputs": [
    {
     "name": "stdout",
     "output_type": "stream",
     "text": [
      "The business profit is: 25\n",
      "  cost: ###########################################################################\n",
      "profit: #########################\n"
     ]
    }
   ],
   "source": [
    "revenue = int(input('Business revenue: '))\n",
    "cost = int(input('Business costs: '))\n",
    "profit = revenue - cost\n",
    "print('The business profit is: ' + str(profit))\n",
    "cost_bar = '#' * cost\n",
    "profit_bar = '#' * profit\n",
    "print('  cost: ' + cost_bar)\n",
    "print('profit: ' + profit_bar)"
   ]
  },
  {
   "cell_type": "code",
   "execution_count": 28,
   "metadata": {},
   "outputs": [
    {
     "name": "stdout",
     "output_type": "stream",
     "text": [
      "The business profit is: 250\n",
      "  cost: #########\n",
      "profit: ###############\n"
     ]
    }
   ],
   "source": [
    "revenue = int(input('Business revenue: '))\n",
    "cost = int(input('Business costs: '))\n",
    "profit = revenue - cost\n",
    "print('The business profit is: ' + str(profit))\n",
    "cost_bar = '#' * int((cost / revenue) * 25)\n",
    "profit_bar = '#' * int((profit / revenue) * 25)\n",
    "print('  cost: ' + cost_bar)\n",
    "print('profit: ' + profit_bar)"
   ]
  },
  {
   "cell_type": "markdown",
   "metadata": {},
   "source": [
    "## String Indexing\n",
    "An index is just a number that specified what position a character is at within the string."
   ]
  },
  {
   "cell_type": "code",
   "execution_count": 29,
   "metadata": {},
   "outputs": [
    {
     "name": "stdout",
     "output_type": "stream",
     "text": [
      "s\n"
     ]
    }
   ],
   "source": [
    "city = 'Jerusalem'\n",
    "letter = city[4]\n",
    "print(letter)"
   ]
  },
  {
   "cell_type": "code",
   "execution_count": 30,
   "metadata": {},
   "outputs": [
    {
     "name": "stdout",
     "output_type": "stream",
     "text": [
      "Jem\n"
     ]
    }
   ],
   "source": [
    "city = 'Jerusalem.'\n",
    "rock = city[0] + city[1] + city[8]\n",
    "print(rock)"
   ]
  },
  {
   "cell_type": "code",
   "execution_count": 31,
   "metadata": {},
   "outputs": [
    {
     "name": "stdout",
     "output_type": "stream",
     "text": [
      "Jem\n"
     ]
    }
   ],
   "source": [
    "city = 'Jerusalem'\n",
    "rock = city[-9] + city[-8] + city[-1]\n",
    "print(rock)"
   ]
  },
  {
   "cell_type": "code",
   "execution_count": 32,
   "metadata": {},
   "outputs": [
    {
     "name": "stdout",
     "output_type": "stream",
     "text": [
      "The last two characters of your input were: eb\n"
     ]
    }
   ],
   "source": [
    "text = input('Type something: ')\n",
    "print('The last two characters of your input were: ' + text[-2] + text[-1])"
   ]
  },
  {
   "cell_type": "code",
   "execution_count": 33,
   "metadata": {},
   "outputs": [
    {
     "name": "stdout",
     "output_type": "stream",
     "text": [
      "The last two characters of your input were: eb\n"
     ]
    }
   ],
   "source": [
    "text = input('Type something: ')\n",
    "last = text[len(text) - 1]\n",
    "other = text[len(text) - 2]\n",
    "print('The last two characters of your input were: ' + other + last)"
   ]
  },
  {
   "cell_type": "code",
   "execution_count": 34,
   "metadata": {},
   "outputs": [
    {
     "name": "stdout",
     "output_type": "stream",
     "text": [
      "140 150.0\n"
     ]
    }
   ],
   "source": [
    "x = 100 + 20 * 2\n",
    "y = 200 - 100 / 2\n",
    "print(x, y)"
   ]
  },
  {
   "cell_type": "code",
   "execution_count": 35,
   "metadata": {},
   "outputs": [
    {
     "name": "stdout",
     "output_type": "stream",
     "text": [
      "The business profit is: 25\n",
      "  cost: ##################\n",
      "profit: ######\n"
     ]
    }
   ],
   "source": [
    "revenue = int(input('Business revenue: '))\n",
    "cost = int(input('Business costs: '))\n",
    "profit = revenue - cost\n",
    "print('The business profit is: ' + str(profit))\n",
    "cost_bar = '#' * int((cost / revenue) * 25)\n",
    "profit_bar = '#' * int((profit / revenue) * 25)\n",
    "print('  cost: ' + cost_bar)\n",
    "print('profit: ' + profit_bar)"
   ]
  },
  {
   "cell_type": "markdown",
   "metadata": {},
   "source": [
    "# Booleans and Boolean Expressions\n",
    "Strings are used to represent text data, Integers are used to represent whole numbers, and floats are used to represent numbers with decimals. Another data type in python is called a boolean. A boolean is one of the simplest data types in python."
   ]
  },
  {
   "cell_type": "code",
   "execution_count": 36,
   "metadata": {},
   "outputs": [
    {
     "name": "stdout",
     "output_type": "stream",
     "text": [
      "True False\n"
     ]
    }
   ],
   "source": [
    "the_sky_is_blue = True\n",
    "food_is_bad = False\n",
    "print(the_sky_is_blue, food_is_bad)"
   ]
  },
  {
   "cell_type": "code",
   "execution_count": 37,
   "metadata": {},
   "outputs": [],
   "source": [
    "x = 5 * 7 + 2\n",
    "y = 100 / 2 ** 3"
   ]
  },
  {
   "cell_type": "code",
   "execution_count": 38,
   "metadata": {},
   "outputs": [],
   "source": [
    "enough_money = 1000 > 100\n",
    "do_the_names_match = 'Ryan' == 'Rich'"
   ]
  },
  {
   "cell_type": "code",
   "execution_count": 40,
   "metadata": {},
   "outputs": [
    {
     "name": "stdout",
     "output_type": "stream",
     "text": [
      "You are a losser!\n"
     ]
    }
   ],
   "source": [
    "home_cost = int(input('How much does the home cost? '))\n",
    "available_funds = int(input('How much money do you have immediately available? '))\n",
    "down_payment = home_cost * 0.2\n",
    "if available_funds >= down_payment:\n",
    "    print('You can afford the down payment!')\n",
    "else:\n",
    "    print(\"You are a losser!\")"
   ]
  },
  {
   "cell_type": "code",
   "execution_count": 41,
   "metadata": {},
   "outputs": [],
   "source": [
    "name = input('What is your name? ')\n",
    "if name == 'Bob':\n",
    "    print('Great! your name is Bob!')"
   ]
  },
  {
   "cell_type": "code",
   "execution_count": null,
   "metadata": {},
   "outputs": [],
   "source": []
  }
 ],
 "metadata": {
  "kernelspec": {
   "display_name": "Python 3",
   "language": "python",
   "name": "python3"
  },
  "language_info": {
   "codemirror_mode": {
    "name": "ipython",
    "version": 3
   },
   "file_extension": ".py",
   "mimetype": "text/x-python",
   "name": "python",
   "nbconvert_exporter": "python",
   "pygments_lexer": "ipython3",
   "version": "3.9.7"
  }
 },
 "nbformat": 4,
 "nbformat_minor": 2
}
