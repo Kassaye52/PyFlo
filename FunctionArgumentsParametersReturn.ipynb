{
 "cells": [
  {
   "cell_type": "markdown",
   "metadata": {},
   "source": [
    "# Function Arguments, Parameters, Return"
   ]
  },
  {
   "cell_type": "code",
   "execution_count": 1,
   "metadata": {},
   "outputs": [],
   "source": [
    "def multiply_by_two(number):\n",
    "       new_number = number * 2\n",
    "       return new_number"
   ]
  },
  {
   "cell_type": "code",
   "execution_count": 2,
   "metadata": {},
   "outputs": [
    {
     "name": "stdout",
     "output_type": "stream",
     "text": [
      "Numbers:  20 100\n"
     ]
    }
   ],
   "source": [
    "r1 = multiply_by_two(10)\n",
    "r2 = multiply_by_two(50)\n",
    "print(\"Numbers: \", r1, r2)"
   ]
  },
  {
   "cell_type": "code",
   "execution_count": null,
   "metadata": {},
   "outputs": [],
   "source": [
    "def determine_golf_performance():\n",
    "    par = int(input('What par was the hole?\\n'))\n",
    "    strokes = int(input('How many strokes did you use?\\n'))\n",
    "             \n",
    "    if par-3 == strokes:\n",
    "        print('Albatross')\n",
    "    elif par-2 == strokes:\n",
    "        print('Eagle')\n",
    "    elif par-1 == strokes:\n",
    "        print('Birdie')\n",
    "    elif par == strokes:\n",
    "        print('Par')\n",
    "    elif par+1 == strokes:\n",
    "        print('Bogey')\n",
    "    elif par+2 == strokes:\n",
    "        print('Double Bogey')\n",
    "    elif par+3 == strokes:\n",
    "        print('Triple Bogey')\n",
    "    else:    \n",
    "        print('I don\\'t know? Please try again.')\n",
    "\n",
    "print(\">> Use this tool to give you feedback on how you golfed\")\n",
    "hole = 1\n",
    "while hole <= 18:\n",
    "    print(\">> Hole\", hole, \"performance\")\n",
    "    determine_golf_performance()\n",
    "    hole += 1"
   ]
  },
  {
   "cell_type": "code",
   "execution_count": 5,
   "metadata": {},
   "outputs": [
    {
     "name": "stdout",
     "output_type": "stream",
     "text": [
      "Use this tool to give you feedback on how you golfed\n",
      "Hole 1 performance is Par\n",
      "Hole 2 performance is Bogey\n",
      "Hole 3 performance is Par\n",
      "Hole 4 performance is Birdie\n",
      "Hole 5 performance is Eagle\n",
      "Hole 6 performance is Albatross\n",
      "Hole 7 performance is ?\n",
      "Hole 8 performance is ?\n",
      "Hole 9 performance is ?\n",
      "Hole 10 performance is ?\n",
      "Hole 11 performance is ?\n",
      "Hole 12 performance is ?\n",
      "Hole 13 performance is ?\n"
     ]
    }
   ],
   "source": [
    "def determine_golf_performance(par, strokes):\n",
    "    if par-3 == strokes:\n",
    "        return 'Albatross'\n",
    "    elif par-2 == strokes:\n",
    "        return 'Eagle'\n",
    "    elif par-1 == strokes:\n",
    "        return 'Birdie'\n",
    "    elif par == strokes:\n",
    "        return 'Par'\n",
    "    elif par+1 == strokes:\n",
    "        return 'Bogey'\n",
    "    elif par+2 == strokes:\n",
    "        return 'Double Bogey'\n",
    "    elif par+3 == strokes:\n",
    "        return 'Triple Bogey'\n",
    "    else:    \n",
    "        return '?'\n",
    "\n",
    "def iterate_through_holes():\n",
    "    hole = 1\n",
    "    while hole <= 18:\n",
    "        par = int(input('What par was the hole?\\n'))\n",
    "        strokes = int(input('How many strokes did you use?\\n'))\n",
    "        result = determine_golf_performance(par, hole)\n",
    "        print(\"Hole\", hole, \"performance is\", result)\n",
    "        hole += 1\n",
    "\n",
    "print(\"Use this tool to give you feedback on how you golfed\")\n",
    "iterate_through_holes()"
   ]
  },
  {
   "cell_type": "code",
   "execution_count": 1,
   "metadata": {},
   "outputs": [],
   "source": [
    "def is_phone_valid(phone):\n",
    "  if len(phone) != 12 or phone[3] != '-' or phone[7] != '-':\n",
    "      return False\n",
    "  for i in range(0, 12):\n",
    "      if i != 3 and i != 7 and phone[i].isdigit() == False:\n",
    "          return False\n",
    "  return True"
   ]
  },
  {
   "cell_type": "code",
   "execution_count": 3,
   "metadata": {},
   "outputs": [
    {
     "data": {
      "text/plain": [
       "True"
      ]
     },
     "execution_count": 3,
     "metadata": {},
     "output_type": "execute_result"
    }
   ],
   "source": [
    "is_phone_valid(\"701-793-4470\")"
   ]
  },
  {
   "cell_type": "code",
   "execution_count": 4,
   "metadata": {},
   "outputs": [],
   "source": [
    "def is_email_valid(email):\n",
    "    at_count = 0 \n",
    "    dot_count = 0 \n",
    "    for character in email:\n",
    "        if character == '@':\n",
    "            at_count += 1\n",
    "        if character == '.':\n",
    "            dot_count += 1\n",
    "    return at_count == 1 and dot_count >= 1"
   ]
  },
  {
   "cell_type": "code",
   "execution_count": 5,
   "metadata": {},
   "outputs": [
    {
     "data": {
      "text/plain": [
       "True"
      ]
     },
     "execution_count": 5,
     "metadata": {},
     "output_type": "execute_result"
    }
   ],
   "source": [
    "is_email_valid(\"kassayeb@vt.edu\")"
   ]
  },
  {
   "cell_type": "code",
   "execution_count": 8,
   "metadata": {},
   "outputs": [],
   "source": [
    "def main():\n",
    "    print(\"Welcome to the sign-up form.\")\n",
    "    print(\"Please provide your email and phone number so we can contact you.\")\n",
    "     \n",
    "    number = input(\"Phone number: \")\n",
    "    address = input(\"Email Address: \")\n",
    "     \n",
    "     \n",
    "    number_valid = is_phone_valid(number)\n",
    "    address_valid = is_email_valid(address)\n",
    "     \n",
    "    if number_valid and address_valid:\n",
    "        print(\"Thanks for providing your information\")\n",
    "    else:\n",
    "        print(\"Something is not right. Please try again.\")"
   ]
  },
  {
   "cell_type": "code",
   "execution_count": 9,
   "metadata": {},
   "outputs": [
    {
     "name": "stdout",
     "output_type": "stream",
     "text": [
      "Welcome to the sign-up form.\n",
      "Please provide your email and phone number so we can contact you.\n",
      "Thanks for providing your information\n"
     ]
    }
   ],
   "source": [
    "main()"
   ]
  },
  {
   "cell_type": "markdown",
   "metadata": {},
   "source": [
    "# Multiple Parameters"
   ]
  },
  {
   "cell_type": "code",
   "execution_count": 10,
   "metadata": {},
   "outputs": [],
   "source": [
    "def compute_tax(income, credits):\n",
    "    net = income - credits\n",
    "    if net < 50000:\n",
    "        return net * 0.15\n",
    "    elif net < 100000:\n",
    "        return net * 0.20\n",
    "    return net * .25"
   ]
  },
  {
   "cell_type": "code",
   "execution_count": 11,
   "metadata": {},
   "outputs": [],
   "source": [
    "def main():\n",
    "    salary = int(input('How much money did you make this year? '))\n",
    "    user_credit = int(input('How much tax credit do you have? '))\n",
    "    result = compute_tax(salary, user_credit)\n",
    "    print('You owe $' + str(result) + ' in taxes.')"
   ]
  },
  {
   "cell_type": "code",
   "execution_count": null,
   "metadata": {},
   "outputs": [],
   "source": [
    "def compute_tax(income, credits):\n",
    "    net = income - credits\n",
    "    if net < 50000:\n",
    "        return net * 0.15\n",
    "    elif net < 100000:\n",
    "        return net * 0.20\n",
    "    return net * .25\n",
    "\n",
    "def calculate_monthly_payment(amount, years, interest_rate):\n",
    "    monthly_interest = interest / 12                   \n",
    "    months = years * 12                                \n",
    "    top = amount * ( monthly_interest * (1 + monthly_interest)**months )\n",
    "    monthly_payment = top / ( (1 + monthly_interest)**months - 1 )\n",
    "    return monthly_payment  \n",
    "\n",
    "def main():\n",
    "    salary      = int(input('How much money did you make this year? '))\n",
    "    user_credit = int(input('How much tax credit do you have? '))\n",
    "    mortgage    = int(input('How much is your mortgage? '))\n",
    "    years       = int(input('How many years is your mortgage? '))\n",
    "    top    = float(input('What is your mortgage interest rate? '))\n",
    "\n",
    "    result = compute_tax(salary, user_credit)\n",
    "    print('You owe $' + str(result) + ' in taxes.')\n",
    "\n",
    "    result = calculate_monthly_payment(mortgage, years, top)\n",
    "    print('Your mortgage payment should be $' + str(result) + ' per month.')\n",
    "\n",
    "main()"
   ]
  },
  {
   "cell_type": "code",
   "execution_count": 14,
   "metadata": {},
   "outputs": [],
   "source": [
    "def compute_tax(income, credits):\n",
    "    net = income - credits\n",
    "    tax = 0\n",
    "    remaining = 0\n",
    "    if net < 50000:\n",
    "        tax = net * 0.15\n",
    "    elif net < 100000:\n",
    "        tax = net * 0.20\n",
    "    remaining = net - tax\n",
    "    return tax, remaining"
   ]
  },
  {
   "cell_type": "code",
   "execution_count": 15,
   "metadata": {},
   "outputs": [
    {
     "name": "stdout",
     "output_type": "stream",
     "text": [
      " Taxes you owe: 6750.0\n",
      "Money leftover: 38250.0\n"
     ]
    }
   ],
   "source": [
    "tax_owed, leftover = compute_tax(50000, 5000)\n",
    "print(\" Taxes you owe: \" + str(tax_owed))\n",
    "print(\"Money leftover: \" + str(leftover))"
   ]
  },
  {
   "cell_type": "code",
   "execution_count": null,
   "metadata": {},
   "outputs": [],
   "source": []
  }
 ],
 "metadata": {
  "kernelspec": {
   "display_name": "base",
   "language": "python",
   "name": "python3"
  },
  "language_info": {
   "codemirror_mode": {
    "name": "ipython",
    "version": 3
   },
   "file_extension": ".py",
   "mimetype": "text/x-python",
   "name": "python",
   "nbconvert_exporter": "python",
   "pygments_lexer": "ipython3",
   "version": "3.9.7"
  }
 },
 "nbformat": 4,
 "nbformat_minor": 2
}
