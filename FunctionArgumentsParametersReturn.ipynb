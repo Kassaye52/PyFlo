{
 "cells": [
  {
   "cell_type": "markdown",
   "metadata": {},
   "source": [
    "# Function Arguments, Parameters, Return"
   ]
  },
  {
   "cell_type": "code",
   "execution_count": 1,
   "metadata": {},
   "outputs": [],
   "source": [
    "def multiply_by_two(number):\n",
    "       new_number = number * 2\n",
    "       return new_number"
   ]
  },
  {
   "cell_type": "code",
   "execution_count": 2,
   "metadata": {},
   "outputs": [
    {
     "name": "stdout",
     "output_type": "stream",
     "text": [
      "Numbers:  20 100\n"
     ]
    }
   ],
   "source": [
    "r1 = multiply_by_two(10)\n",
    "r2 = multiply_by_two(50)\n",
    "print(\"Numbers: \", r1, r2)"
   ]
  },
  {
   "cell_type": "code",
   "execution_count": null,
   "metadata": {},
   "outputs": [],
   "source": [
    "def determine_golf_performance():\n",
    "    par = int(input('What par was the hole?\\n'))\n",
    "    strokes = int(input('How many strokes did you use?\\n'))\n",
    "             \n",
    "    if par-3 == strokes:\n",
    "        print('Albatross')\n",
    "    elif par-2 == strokes:\n",
    "        print('Eagle')\n",
    "    elif par-1 == strokes:\n",
    "        print('Birdie')\n",
    "    elif par == strokes:\n",
    "        print('Par')\n",
    "    elif par+1 == strokes:\n",
    "        print('Bogey')\n",
    "    elif par+2 == strokes:\n",
    "        print('Double Bogey')\n",
    "    elif par+3 == strokes:\n",
    "        print('Triple Bogey')\n",
    "    else:    \n",
    "        print('I don\\'t know? Please try again.')\n",
    "\n",
    "print(\">> Use this tool to give you feedback on how you golfed\")\n",
    "hole = 1\n",
    "while hole <= 18:\n",
    "    print(\">> Hole\", hole, \"performance\")\n",
    "    determine_golf_performance()\n",
    "    hole += 1"
   ]
  },
  {
   "cell_type": "code",
   "execution_count": 5,
   "metadata": {},
   "outputs": [
    {
     "name": "stdout",
     "output_type": "stream",
     "text": [
      "Use this tool to give you feedback on how you golfed\n",
      "Hole 1 performance is Par\n",
      "Hole 2 performance is Bogey\n",
      "Hole 3 performance is Par\n",
      "Hole 4 performance is Birdie\n",
      "Hole 5 performance is Eagle\n",
      "Hole 6 performance is Albatross\n",
      "Hole 7 performance is ?\n",
      "Hole 8 performance is ?\n",
      "Hole 9 performance is ?\n",
      "Hole 10 performance is ?\n",
      "Hole 11 performance is ?\n",
      "Hole 12 performance is ?\n",
      "Hole 13 performance is ?\n"
     ]
    }
   ],
   "source": [
    "def determine_golf_performance(par, strokes):\n",
    "    if par-3 == strokes:\n",
    "        return 'Albatross'\n",
    "    elif par-2 == strokes:\n",
    "        return 'Eagle'\n",
    "    elif par-1 == strokes:\n",
    "        return 'Birdie'\n",
    "    elif par == strokes:\n",
    "        return 'Par'\n",
    "    elif par+1 == strokes:\n",
    "        return 'Bogey'\n",
    "    elif par+2 == strokes:\n",
    "        return 'Double Bogey'\n",
    "    elif par+3 == strokes:\n",
    "        return 'Triple Bogey'\n",
    "    else:    \n",
    "        return '?'\n",
    "\n",
    "def iterate_through_holes():\n",
    "    hole = 1\n",
    "    while hole <= 18:\n",
    "        par = int(input('What par was the hole?\\n'))\n",
    "        strokes = int(input('How many strokes did you use?\\n'))\n",
    "        result = determine_golf_performance(par, hole)\n",
    "        print(\"Hole\", hole, \"performance is\", result)\n",
    "        hole += 1\n",
    "\n",
    "print(\"Use this tool to give you feedback on how you golfed\")\n",
    "iterate_through_holes()"
   ]
  },
  {
   "cell_type": "code",
   "execution_count": 1,
   "metadata": {},
   "outputs": [],
   "source": [
    "def is_phone_valid(phone):\n",
    "  if len(phone) != 12 or phone[3] != '-' or phone[7] != '-':\n",
    "      return False\n",
    "  for i in range(0, 12):\n",
    "      if i != 3 and i != 7 and phone[i].isdigit() == False:\n",
    "          return False\n",
    "  return True"
   ]
  },
  {
   "cell_type": "code",
   "execution_count": 3,
   "metadata": {},
   "outputs": [
    {
     "data": {
      "text/plain": [
       "True"
      ]
     },
     "execution_count": 3,
     "metadata": {},
     "output_type": "execute_result"
    }
   ],
   "source": [
    "is_phone_valid(\"701-793-4470\")"
   ]
  },
  {
   "cell_type": "code",
   "execution_count": 4,
   "metadata": {},
   "outputs": [],
   "source": [
    "def is_email_valid(email):\n",
    "    at_count = 0 \n",
    "    dot_count = 0 \n",
    "    for character in email:\n",
    "        if character == '@':\n",
    "            at_count += 1\n",
    "        if character == '.':\n",
    "            dot_count += 1\n",
    "    return at_count == 1 and dot_count >= 1"
   ]
  },
  {
   "cell_type": "code",
   "execution_count": 5,
   "metadata": {},
   "outputs": [
    {
     "data": {
      "text/plain": [
       "True"
      ]
     },
     "execution_count": 5,
     "metadata": {},
     "output_type": "execute_result"
    }
   ],
   "source": [
    "is_email_valid(\"kassayeb@vt.edu\")"
   ]
  },
  {
   "cell_type": "code",
   "execution_count": 8,
   "metadata": {},
   "outputs": [],
   "source": [
    "def main():\n",
    "    print(\"Welcome to the sign-up form.\")\n",
    "    print(\"Please provide your email and phone number so we can contact you.\")\n",
    "     \n",
    "    number = input(\"Phone number: \")\n",
    "    address = input(\"Email Address: \")\n",
    "     \n",
    "     \n",
    "    number_valid = is_phone_valid(number)\n",
    "    address_valid = is_email_valid(address)\n",
    "     \n",
    "    if number_valid and address_valid:\n",
    "        print(\"Thanks for providing your information\")\n",
    "    else:\n",
    "        print(\"Something is not right. Please try again.\")"
   ]
  },
  {
   "cell_type": "code",
   "execution_count": 9,
   "metadata": {},
   "outputs": [
    {
     "name": "stdout",
     "output_type": "stream",
     "text": [
      "Welcome to the sign-up form.\n",
      "Please provide your email and phone number so we can contact you.\n",
      "Thanks for providing your information\n"
     ]
    }
   ],
   "source": [
    "main()"
   ]
  },
  {
   "cell_type": "markdown",
   "metadata": {},
   "source": [
    "# Multiple Parameters"
   ]
  },
  {
   "cell_type": "code",
   "execution_count": 10,
   "metadata": {},
   "outputs": [],
   "source": [
    "def compute_tax(income, credits):\n",
    "    net = income - credits\n",
    "    if net < 50000:\n",
    "        return net * 0.15\n",
    "    elif net < 100000:\n",
    "        return net * 0.20\n",
    "    return net * .25"
   ]
  },
  {
   "cell_type": "code",
   "execution_count": 11,
   "metadata": {},
   "outputs": [],
   "source": [
    "def main():\n",
    "    salary = int(input('How much money did you make this year? '))\n",
    "    user_credit = int(input('How much tax credit do you have? '))\n",
    "    result = compute_tax(salary, user_credit)\n",
    "    print('You owe $' + str(result) + ' in taxes.')"
   ]
  },
  {
   "cell_type": "code",
   "execution_count": null,
   "metadata": {},
   "outputs": [],
   "source": [
    "def compute_tax(income, credits):\n",
    "    net = income - credits\n",
    "    if net < 50000:\n",
    "        return net * 0.15\n",
    "    elif net < 100000:\n",
    "        return net * 0.20\n",
    "    return net * .25\n",
    "\n",
    "def calculate_monthly_payment(amount, years, interest_rate):\n",
    "    monthly_interest = interest / 12                   \n",
    "    months = years * 12                                \n",
    "    top = amount * ( monthly_interest * (1 + monthly_interest)**months )\n",
    "    monthly_payment = top / ( (1 + monthly_interest)**months - 1 )\n",
    "    return monthly_payment  \n",
    "\n",
    "def main():\n",
    "    salary      = int(input('How much money did you make this year? '))\n",
    "    user_credit = int(input('How much tax credit do you have? '))\n",
    "    mortgage    = int(input('How much is your mortgage? '))\n",
    "    years       = int(input('How many years is your mortgage? '))\n",
    "    top    = float(input('What is your mortgage interest rate? '))\n",
    "\n",
    "    result = compute_tax(salary, user_credit)\n",
    "    print('You owe $' + str(result) + ' in taxes.')\n",
    "\n",
    "    result = calculate_monthly_payment(mortgage, years, top)\n",
    "    print('Your mortgage payment should be $' + str(result) + ' per month.')\n",
    "\n",
    "main()"
   ]
  },
  {
   "cell_type": "code",
   "execution_count": 14,
   "metadata": {},
   "outputs": [],
   "source": [
    "def compute_tax(income, credits):\n",
    "    net = income - credits\n",
    "    tax = 0\n",
    "    remaining = 0\n",
    "    if net < 50000:\n",
    "        tax = net * 0.15\n",
    "    elif net < 100000:\n",
    "        tax = net * 0.20\n",
    "    remaining = net - tax\n",
    "    return tax, remaining"
   ]
  },
  {
   "cell_type": "code",
   "execution_count": 15,
   "metadata": {},
   "outputs": [
    {
     "name": "stdout",
     "output_type": "stream",
     "text": [
      " Taxes you owe: 6750.0\n",
      "Money leftover: 38250.0\n"
     ]
    }
   ],
   "source": [
    "tax_owed, leftover = compute_tax(50000, 5000)\n",
    "print(\" Taxes you owe: \" + str(tax_owed))\n",
    "print(\"Money leftover: \" + str(leftover))"
   ]
  },
  {
   "cell_type": "markdown",
   "metadata": {},
   "source": [
    "# Variable Scope\n",
    "Global Variable: A variable that is created outside of any function (with no indentation). This can potentially be accessed and modified from any code in a python program file.\n",
    "Local Variable: A variable that is created within a function, and can only be utilized by the code in that function. Function parameters are also considered local variables."
   ]
  },
  {
   "cell_type": "code",
   "execution_count": 2,
   "metadata": {},
   "outputs": [
    {
     "name": "stdout",
     "output_type": "stream",
     "text": [
      "Hi there PLACEHOLDER\n"
     ]
    }
   ],
   "source": [
    "name = 'PLACEHOLDER'\n",
    "\n",
    "def capitalize_name():\n",
    "    name = input('What is your name? ')\n",
    "    first_letter = name[0]\n",
    "    after_first = name[1:]\n",
    "    name = first_letter.upper() + after_first.lower()\n",
    "\n",
    "capitalize_name()\n",
    "print('Hi there', name)"
   ]
  },
  {
   "cell_type": "code",
   "execution_count": 4,
   "metadata": {},
   "outputs": [
    {
     "name": "stdout",
     "output_type": "stream",
     "text": [
      "Hi there caroLINE\n"
     ]
    }
   ],
   "source": [
    "def capitalize_name(name_to_process):\n",
    "    first_letter = name_to_process[0]\n",
    "    after_first = name_to_process[1:]\n",
    "    name_to_process = first_letter.upper() + after_first.lower()\n",
    "\n",
    "name = input('Type your name: ')\n",
    "capitalize_name(name)\n",
    "print('Hi there', name)"
   ]
  },
  {
   "cell_type": "code",
   "execution_count": null,
   "metadata": {},
   "outputs": [],
   "source": [
    "name = input('Type your name: ')\n",
    "\n",
    "def capitalize_name():\n",
    "    first_letter = name[0]\n",
    "    after_first = name[1:]\n",
    "    name = first_letter.upper() + after_first.lower()\n",
    "\n",
    "capitalize_name()\n",
    "print('Hi there', name)"
   ]
  },
  {
   "cell_type": "code",
   "execution_count": 9,
   "metadata": {},
   "outputs": [
    {
     "name": "stdout",
     "output_type": "stream",
     "text": [
      "Hi there Caroline\n"
     ]
    }
   ],
   "source": [
    "name = input('Type your name: ')\n",
    "\n",
    "def capitalize_name():\n",
    "    global name\n",
    "    first_letter = name[0]\n",
    "    after_first = name[1:]\n",
    "    name = first_letter.upper() + after_first.lower()\n",
    "\n",
    "capitalize_name()\n",
    "print('Hi there', name)"
   ]
  },
  {
   "cell_type": "code",
   "execution_count": 10,
   "metadata": {},
   "outputs": [
    {
     "name": "stdout",
     "output_type": "stream",
     "text": [
      "Hi there Caroline\n"
     ]
    }
   ],
   "source": [
    "def capitalize_name(name): \n",
    "    first_letter = name[0] \n",
    "    after_first = name[1:] \n",
    "    return first_letter.upper() + after_first.lower()\n",
    "                           \n",
    "name = input('Type your name: ')\n",
    "new_name = capitalize_name(name)\n",
    "print('Hi there', new_name)"
   ]
  },
  {
   "cell_type": "markdown",
   "metadata": {},
   "source": [
    "# Constant Values"
   ]
  },
  {
   "cell_type": "code",
   "execution_count": 12,
   "metadata": {},
   "outputs": [
    {
     "name": "stdout",
     "output_type": "stream",
     "text": [
      "Caroline\n"
     ]
    }
   ],
   "source": [
    "name = 'caroLINE'\n",
    "first_letter = name[0] \n",
    "after_first = name[1:] \n",
    "print(first_letter.upper() + after_first.lower())"
   ]
  },
  {
   "cell_type": "code",
   "execution_count": 13,
   "metadata": {},
   "outputs": [],
   "source": [
    "DAYS_PER_WEEK = 7\n",
    "WEEKS_IN_YEAR = 52\n",
    "DAYS_PER_MONTH = 30 # Approximation :)\n",
    "MONTHS_IN_YEAR = 12\n",
    "\n",
    "def print_week(days_passed):\n",
    "    week_number = int(days_passed / DAYS_PER_WEEK)\n",
    "    print('We are in week', week_number, 'out of', WEEKS_IN_YEAR, 'total.')\n",
    "\n",
    "def print_day_week_month(days_passed):\n",
    "    week_number = int(days_passed / DAYS_PER_WEEK)\n",
    "    month_number = int(days_passed / DAYS_PER_MONTH)\n",
    "    print('Day:', days_passed)\n",
    "    print('Week', week_number, 'of', WEEKS_IN_YEAR)\n",
    "    print('Month', month_number, 'of', MONTHS_IN_YEAR)"
   ]
  },
  {
   "cell_type": "code",
   "execution_count": 16,
   "metadata": {},
   "outputs": [],
   "source": [
    "import random\n",
    "def roll_die():\n",
    "    print('ROLLING DIE')\n",
    "    result = random.randint(1, 6)\n",
    "    print('DIE:', result)"
   ]
  },
  {
   "cell_type": "code",
   "execution_count": 17,
   "metadata": {},
   "outputs": [
    {
     "name": "stdout",
     "output_type": "stream",
     "text": [
      "ROLLING DIE\n",
      "DIE: 5\n"
     ]
    }
   ],
   "source": [
    "roll_die()"
   ]
  },
  {
   "cell_type": "code",
   "execution_count": 18,
   "metadata": {},
   "outputs": [],
   "source": [
    "def get_random_human_height():\n",
    "    height = random.uniform(1.0, 3.0)\n",
    "    # Rounding to two decimal places is sufficient detail\n",
    "    return round(height, 2)"
   ]
  },
  {
   "cell_type": "code",
   "execution_count": 19,
   "metadata": {},
   "outputs": [
    {
     "data": {
      "text/plain": [
       "2.63"
      ]
     },
     "execution_count": 19,
     "metadata": {},
     "output_type": "execute_result"
    }
   ],
   "source": [
    "get_random_human_height()"
   ]
  },
  {
   "cell_type": "code",
   "execution_count": 24,
   "metadata": {},
   "outputs": [],
   "source": [
    "import random # Will need this!\n",
    "\n",
    "# Constants for each player selection\n",
    "ROCK     = 'rock'\n",
    "PAPER    = 'paper'\n",
    "SCISSORS = 'scissors'\n",
    "\n",
    "def get_computer_rps():\n",
    "    # Get random RPS selection, return string\n",
    "    pass\n",
    "def get_user_rps():\n",
    "    # Get user RPS, ensure is valid, return string\n",
    "    pass\n",
    "def result_check(user, computer):\n",
    "    # Two string parameters, determine who won or if there was a tie.\n",
    "    pass\n",
    "def main():\n",
    "    # Get user input, Get random computer RPS, \n",
    "    # Print whether or not user won\n",
    "    pass\n",
    "main()"
   ]
  },
  {
   "cell_type": "code",
   "execution_count": 27,
   "metadata": {},
   "outputs": [],
   "source": [
    "def get_computer_rps():\n",
    "    random_int = random.randint(1,3)\n",
    "    if random_int == 1:\n",
    "        return ROCK\n",
    "    if random_int == 2:\n",
    "        return PAPER\n",
    "    return SCISSORS"
   ]
  },
  {
   "cell_type": "code",
   "execution_count": 28,
   "metadata": {},
   "outputs": [
    {
     "data": {
      "text/plain": [
       "'rock'"
      ]
     },
     "execution_count": 28,
     "metadata": {},
     "output_type": "execute_result"
    }
   ],
   "source": [
    "get_computer_rps()"
   ]
  },
  {
   "cell_type": "code",
   "execution_count": 30,
   "metadata": {},
   "outputs": [],
   "source": [
    "def get_user_rps():\n",
    "    selection = ''\n",
    "    while selection != ROCK and selection != PAPER and selection != SCISSORS:\n",
    "        selection = input('Enter rock, paper, or scissors: ')\n",
    "    return selection"
   ]
  },
  {
   "cell_type": "code",
   "execution_count": 35,
   "metadata": {},
   "outputs": [],
   "source": [
    "def result_check(user, computer):\n",
    "    if user == computer:\n",
    "        print('TIE')\n",
    "    elif (user == PAPER and computer == ROCK)    or (user == ROCK and computer == SCISSORS) or (user == SCISSORS and computer == PAPER): \n",
    "            print('USER WON')\n",
    "    else:\n",
    "        print('COMPUTER WON')"
   ]
  },
  {
   "cell_type": "code",
   "execution_count": 36,
   "metadata": {},
   "outputs": [],
   "source": [
    "def main():\n",
    "    user_choice = get_user_rps()\n",
    "    computer_choice = get_computer_rps()\n",
    "    result_check(user_choice, computer_choice)"
   ]
  },
  {
   "cell_type": "code",
   "execution_count": 37,
   "metadata": {},
   "outputs": [
    {
     "name": "stdout",
     "output_type": "stream",
     "text": [
      "USER WON\n"
     ]
    },
    {
     "ename": "",
     "evalue": "",
     "output_type": "error",
     "traceback": [
      "\u001b[1;31mThe Kernel crashed while executing code in the current cell or a previous cell. \n",
      "\u001b[1;31mPlease review the code in the cell(s) to identify a possible cause of the failure. \n",
      "\u001b[1;31mClick <a href='https://aka.ms/vscodeJupyterKernelCrash'>here</a> for more info. \n",
      "\u001b[1;31mView Jupyter <a href='command:jupyter.viewOutput'>log</a> for further details."
     ]
    }
   ],
   "source": [
    "main()"
   ]
  },
  {
   "cell_type": "markdown",
   "metadata": {},
   "source": [
    "# Read Text from Files"
   ]
  },
  {
   "cell_type": "code",
   "execution_count": 1,
   "metadata": {},
   "outputs": [],
   "source": [
    "data_file = open('file_name.txt', 'r')"
   ]
  },
  {
   "cell_type": "code",
   "execution_count": 2,
   "metadata": {},
   "outputs": [
    {
     "name": "stdout",
     "output_type": "stream",
     "text": [
      "cappuccino,13\n",
      "latte,22\n",
      "coffee,31\n",
      "tea,5\n"
     ]
    }
   ],
   "source": [
    "content = data_file.read()\n",
    "print(content)"
   ]
  },
  {
   "cell_type": "code",
   "execution_count": 3,
   "metadata": {},
   "outputs": [],
   "source": [
    "sales = open('file_name.txt', 'r')\n",
    "\n",
    "# Make the loop repeat four times, because we have four items\n",
    "i = 0\n",
    "while i < 4:\n",
    "    line_from_file = sales.readline()\n",
    "    # Here, do whatever you want with the line from the file\n",
    "    i += 1"
   ]
  },
  {
   "cell_type": "code",
   "execution_count": 4,
   "metadata": {},
   "outputs": [
    {
     "data": {
      "text/plain": [
       "<_io.TextIOWrapper name='file_name.txt' mode='r' encoding='UTF-8'>"
      ]
     },
     "execution_count": 4,
     "metadata": {},
     "output_type": "execute_result"
    }
   ],
   "source": [
    "sales"
   ]
  },
  {
   "cell_type": "code",
   "execution_count": 5,
   "metadata": {},
   "outputs": [],
   "source": [
    "# This gives the index of the comma in the string, \n",
    "# which separates the name from the quantity\n",
    "index = line_from_file.index(',')\n",
    "# This gets just the product name\n",
    "product = line_from_file[:index]\n",
    "# This gets just the quantity and converts it to an integer\n",
    "quantity = int(line_from_file[index+1:])"
   ]
  },
  {
   "cell_type": "code",
   "execution_count": 6,
   "metadata": {},
   "outputs": [
    {
     "data": {
      "text/plain": [
       "3"
      ]
     },
     "execution_count": 6,
     "metadata": {},
     "output_type": "execute_result"
    }
   ],
   "source": [
    "index"
   ]
  },
  {
   "cell_type": "code",
   "execution_count": 7,
   "metadata": {},
   "outputs": [
    {
     "data": {
      "text/plain": [
       "'tea'"
      ]
     },
     "execution_count": 7,
     "metadata": {},
     "output_type": "execute_result"
    }
   ],
   "source": [
    "product"
   ]
  },
  {
   "cell_type": "code",
   "execution_count": 8,
   "metadata": {},
   "outputs": [
    {
     "data": {
      "text/plain": [
       "5"
      ]
     },
     "execution_count": 8,
     "metadata": {},
     "output_type": "execute_result"
    }
   ],
   "source": [
    "quantity"
   ]
  },
  {
   "cell_type": "code",
   "execution_count": 9,
   "metadata": {},
   "outputs": [
    {
     "name": "stdout",
     "output_type": "stream",
     "text": [
      "       tea: #####\n"
     ]
    }
   ],
   "source": [
    "print( product.rjust(10) + ': ' + '#' * quantity)"
   ]
  },
  {
   "cell_type": "code",
   "execution_count": 11,
   "metadata": {},
   "outputs": [
    {
     "name": "stdout",
     "output_type": "stream",
     "text": [
      "cappuccino: #############\n",
      "     latte: ######################\n",
      "    coffee: ###############################\n",
      "       tea: #####\n"
     ]
    }
   ],
   "source": [
    "sales = open('file_name.txt', 'r')\n",
    "i = 0 \n",
    "while i < 4:\n",
    "    line_from_file = sales.readline()\n",
    "    index = line_from_file.index(',')\n",
    "    product = line_from_file[:index]\n",
    "    quantity = int(line_from_file[index+1:])\n",
    "    print( product.rjust(10) + ': ' + '#' * quantity)\n",
    "    i += 1"
   ]
  },
  {
   "cell_type": "code",
   "execution_count": 12,
   "metadata": {},
   "outputs": [
    {
     "name": "stdout",
     "output_type": "stream",
     "text": [
      "cappuccino: #############\n",
      "     latte: ######################\n",
      "    coffee: ###############################\n",
      "       tea: #####\n"
     ]
    }
   ],
   "source": [
    "sales = open('file_name.txt', 'r')\n",
    "for line in sales:\n",
    "    index    = line.index(',')\n",
    "    product  = line[:index]\n",
    "    quantity = int(line[index+1:])\n",
    "    print( product.rjust(10) + ': ' + '#' * quantity)"
   ]
  },
  {
   "cell_type": "markdown",
   "metadata": {},
   "source": [
    "# Write Text to Files"
   ]
  },
  {
   "cell_type": "code",
   "execution_count": 16,
   "metadata": {},
   "outputs": [],
   "source": [
    "data_file = open('file_name2.txt', 'w')\n",
    "# or ....\n",
    "#data_file = open('file_name.txt', 'a')"
   ]
  },
  {
   "cell_type": "code",
   "execution_count": 19,
   "metadata": {},
   "outputs": [
    {
     "data": {
      "text/plain": [
       "18"
      ]
     },
     "execution_count": 19,
     "metadata": {},
     "output_type": "execute_result"
    }
   ],
   "source": [
    "data_file.write(\"PUT ME IN THE FILE\")"
   ]
  },
  {
   "cell_type": "code",
   "execution_count": 20,
   "metadata": {},
   "outputs": [
    {
     "data": {
      "text/plain": [
       "8"
      ]
     },
     "execution_count": 20,
     "metadata": {},
     "output_type": "execute_result"
    }
   ],
   "source": [
    "data_file.write(\"String A\")\n",
    "data_file.write(\"String B\")\n",
    "data_file.write(\"String C\")"
   ]
  },
  {
   "cell_type": "code",
   "execution_count": 21,
   "metadata": {},
   "outputs": [],
   "source": [
    "data_file.close()"
   ]
  },
  {
   "cell_type": "code",
   "execution_count": null,
   "metadata": {},
   "outputs": [],
   "source": [
    "day = input('What is today\\'s date? ')\n",
    "file_name = day + '.txt'\n",
    "sales = open(day, 'w')\n",
    "\n",
    "count = int(input('How many products does the store sell? '))\n",
    "while count > 0:\n",
    "    # Collect information here\n",
    "    product = input('Product name: ')\n",
    "    quantity = input('Product sales quantity for the day: ')\n",
    "    sales.write(product + ',' + quantity + '\\n')\n",
    "    count -= 1\n",
    "\n",
    "sales.close()"
   ]
  },
  {
   "cell_type": "code",
   "execution_count": null,
   "metadata": {},
   "outputs": [],
   "source": []
  }
 ],
 "metadata": {
  "kernelspec": {
   "display_name": "base",
   "language": "python",
   "name": "python3"
  },
  "language_info": {
   "codemirror_mode": {
    "name": "ipython",
    "version": 3
   },
   "file_extension": ".py",
   "mimetype": "text/x-python",
   "name": "python",
   "nbconvert_exporter": "python",
   "pygments_lexer": "ipython3",
   "version": "3.9.7"
  }
 },
 "nbformat": 4,
 "nbformat_minor": 2
}
