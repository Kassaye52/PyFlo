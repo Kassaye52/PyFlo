{
 "cells": [
  {
   "cell_type": "markdown",
   "metadata": {},
   "source": [
    "#                     Flag Creator"
   ]
  },
  {
   "cell_type": "code",
   "execution_count": 2,
   "metadata": {},
   "outputs": [
    {
     "name": "stdout",
     "output_type": "stream",
     "text": [
      "#####-----\n",
      "#####-----\n",
      "----------\n",
      "----------\n"
     ]
    }
   ],
   "source": [
    "print(\"#####-----\")\n",
    "print(\"#####-----\")\n",
    "print(\"----------\")\n",
    "print(\"----------\")"
   ]
  },
  {
   "cell_type": "code",
   "execution_count": 4,
   "metadata": {},
   "outputs": [
    {
     "name": "stdout",
     "output_type": "stream",
     "text": [
      "##########----------\n",
      "##########----------\n",
      "--------------------\n",
      "--------------------\n"
     ]
    }
   ],
   "source": [
    "width = input(\"Flag width:\\n\")\n",
    "width = int(width)\n",
    "print(\"#\" * int(width/2) + \"-\"*int(width/2))\n",
    "print(\"#\" * int(width/2) + \"-\"*int(width/2))\n",
    "print(\"-\"*int(width))\n",
    "print(\"-\"*int(width))"
   ]
  },
  {
   "cell_type": "code",
   "execution_count": null,
   "metadata": {},
   "outputs": [],
   "source": [
    "width = input(\"Flag width:\\n\")\n",
    "width = int(width)\n",
    "height = input(\"Flag height:\\n\")\n",
    "height = int(height)"
   ]
  },
  {
   "cell_type": "code",
   "execution_count": 1,
   "metadata": {},
   "outputs": [
    {
     "name": "stdout",
     "output_type": "stream",
     "text": [
      "##########----------\n",
      "##########----------\n",
      "##########----------\n",
      "##########----------\n",
      "--------------------\n",
      "--------------------\n",
      "--------------------\n",
      "--------------------\n"
     ]
    }
   ],
   "source": [
    "# Ask the user for input values and convert to integers\n",
    "width = input(\"Flag width:\\n\")\n",
    "width = int(width)\n",
    "height = input(\"Flag height:\\n\")\n",
    "height = int(height)\n",
    "\n",
    "# Calculate half of the width and height fur use in multiplication\n",
    "half_width = int(width / 2)\n",
    "half_height = int(height / 2)\n",
    "\n",
    "# Create and print the rows of the flag\n",
    "upper_row = '#' * half_width + '-' * half_width + '\\n'\n",
    "lower_row = '-' * width + '\\n'\n",
    "print(upper_row * half_height, end='')\n",
    "print(lower_row * half_height, end='')"
   ]
  },
  {
   "cell_type": "code",
   "execution_count": 12,
   "metadata": {},
   "outputs": [
    {
     "name": "stdout",
     "output_type": "stream",
     "text": [
      "####----\n",
      "####----\n",
      "--------\n",
      "--------\n"
     ]
    }
   ],
   "source": [
    "width = input(\"Flag width:\\n\")\n",
    "width = int(width)\n",
    "height = input(\"Flag height:\\n\")\n",
    "height = int(height)\n",
    "# Put the rest of your code here!\n",
    "\n",
    "half_height = int(height/2)\n",
    "half_width = int(width/2)\n",
    "\n",
    "upper_row = \"#\" * half_width + \"-\"* half_width + '\\n'\n",
    "lower_row = \"-\" * width + '\\n'\n",
    "print(upper_row * half_height, end='')\n",
    "print(lower_row * half_height, end='')"
   ]
  },
  {
   "cell_type": "code",
   "execution_count": null,
   "metadata": {},
   "outputs": [],
   "source": []
  }
 ],
 "metadata": {
  "kernelspec": {
   "display_name": "base",
   "language": "python",
   "name": "python3"
  },
  "language_info": {
   "codemirror_mode": {
    "name": "ipython",
    "version": 3
   },
   "file_extension": ".py",
   "mimetype": "text/x-python",
   "name": "python",
   "nbconvert_exporter": "python",
   "pygments_lexer": "ipython3",
   "version": "3.9.7"
  }
 },
 "nbformat": 4,
 "nbformat_minor": 2
}
