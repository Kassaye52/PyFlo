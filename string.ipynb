{
 "cells": [
  {
   "cell_type": "markdown",
   "metadata": {},
   "source": [
    "# Slicing Strings"
   ]
  },
  {
   "cell_type": "code",
   "execution_count": 2,
   "metadata": {},
   "outputs": [],
   "source": [
    "city = \"Jerusalem\""
   ]
  },
  {
   "cell_type": "code",
   "execution_count": 3,
   "metadata": {},
   "outputs": [
    {
     "name": "stdout",
     "output_type": "stream",
     "text": [
      "First letter: J\n",
      "Last letter: m\n"
     ]
    }
   ],
   "source": [
    "print('First letter:', city[0])\n",
    "print('Last letter:', city[8])"
   ]
  },
  {
   "cell_type": "code",
   "execution_count": 4,
   "metadata": {},
   "outputs": [],
   "source": [
    "last_5 = city[4] + city[5] + city[6] + city[7] + city[8]"
   ]
  },
  {
   "cell_type": "code",
   "execution_count": 5,
   "metadata": {},
   "outputs": [
    {
     "name": "stdout",
     "output_type": "stream",
     "text": [
      "salem\n"
     ]
    }
   ],
   "source": [
    "print(last_5)"
   ]
  },
  {
   "cell_type": "code",
   "execution_count": 6,
   "metadata": {},
   "outputs": [],
   "source": [
    "city = input(\"City name: \")\n",
    "last_5 = city[-5] + city[-4] + city[-3] + city[-2] + city[-1]"
   ]
  },
  {
   "cell_type": "code",
   "execution_count": 7,
   "metadata": {},
   "outputs": [
    {
     "name": "stdout",
     "output_type": "stream",
     "text": [
      "Ababa\n"
     ]
    }
   ],
   "source": [
    "print(last_5)"
   ]
  },
  {
   "cell_type": "code",
   "execution_count": 9,
   "metadata": {},
   "outputs": [
    {
     "name": "stdout",
     "output_type": "stream",
     "text": [
      " Ababa\n"
     ]
    }
   ],
   "source": [
    "last_5 = city[5:]\n",
    "print(last_5)"
   ]
  },
  {
   "cell_type": "code",
   "execution_count": 10,
   "metadata": {},
   "outputs": [
    {
     "name": "stdout",
     "output_type": "stream",
     "text": [
      "Ababa\n"
     ]
    }
   ],
   "source": [
    "last_5 = city[-5:]\n",
    "print(last_5)"
   ]
  },
  {
   "cell_type": "code",
   "execution_count": 11,
   "metadata": {},
   "outputs": [
    {
     "name": "stdout",
     "output_type": "stream",
     "text": [
      "nople\n"
     ]
    }
   ],
   "source": [
    "city = input('City name: ')\n",
    "last_5 = city[-5:]\n",
    "print(last_5)"
   ]
  },
  {
   "cell_type": "code",
   "execution_count": 12,
   "metadata": {},
   "outputs": [
    {
     "name": "stdout",
     "output_type": "stream",
     "text": [
      "The quick brown fox jumped over the lazy dog sittung under the tree down by the riverside in the tall chair.\n"
     ]
    }
   ],
   "source": [
    "text = 'The quick brown fox jumped over the lazy dog sittung under the tree down by the riverside in the tall chair.'\n",
    "print(text)"
   ]
  },
  {
   "cell_type": "code",
   "execution_count": 13,
   "metadata": {},
   "outputs": [
    {
     "name": "stdout",
     "output_type": "stream",
     "text": [
      "The quick brown fox jumped over\n",
      " the lazy dog sittung under the\n",
      " tree down by the riverside in \n",
      "the tall chair.\n"
     ]
    }
   ],
   "source": [
    "text = 'The quick brown fox jumped over the lazy dog sittung under the tree down by the riverside in the tall chair.'\n",
    "width = 31\n",
    "while len(text) > 0:\n",
    "    line = text[:width]\n",
    "    print(line)\n",
    "    text= text[width:]"
   ]
  },
  {
   "cell_type": "markdown",
   "metadata": {},
   "source": [
    "# Recursion"
   ]
  },
  {
   "cell_type": "code",
   "execution_count": 15,
   "metadata": {},
   "outputs": [
    {
     "name": "stdout",
     "output_type": "stream",
     "text": [
      "SHOUT\n",
      "SHOUT\n",
      "SHOUT\n",
      "SHOUT\n",
      "None\n"
     ]
    }
   ],
   "source": [
    "def shout(n):\n",
    "    i = 0 \n",
    "    while i < n:\n",
    "        print(\"SHOUT\")\n",
    "        i += 1\n",
    "print(shout(4))"
   ]
  },
  {
   "cell_type": "code",
   "execution_count": 16,
   "metadata": {},
   "outputs": [
    {
     "name": "stdout",
     "output_type": "stream",
     "text": [
      "SHOUT\n",
      "SHOUT\n",
      "SHOUT\n",
      "SHOUT\n",
      "None\n"
     ]
    }
   ],
   "source": [
    "def shout(n):\n",
    "    if n < 1:\n",
    "        return\n",
    "    print(\"SHOUT\")\n",
    "    shout(n-1)\n",
    "print(shout(4))"
   ]
  },
  {
   "cell_type": "markdown",
   "metadata": {},
   "source": [
    "# The Function Call Stack"
   ]
  },
  {
   "cell_type": "code",
   "execution_count": 18,
   "metadata": {},
   "outputs": [
    {
     "name": "stdout",
     "output_type": "stream",
     "text": [
      "starting\n",
      "The name is Kassayeb\n",
      "completed\n"
     ]
    }
   ],
   "source": [
    "def ask_for_name():\n",
    "    input_name = ''\n",
    "    while len(input_name) < 4:\n",
    "        input_name = input('Enter your name')\n",
    "    return input_name\n",
    "\n",
    "def display_name(name):\n",
    "    if name == '':\n",
    "        name = ask_for_name()\n",
    "    print('The name is', name)\n",
    "  \n",
    "def main():\n",
    "    print('starting')\n",
    "    display_name('')\n",
    "    print('completed')\n",
    "\n",
    "main()"
   ]
  },
  {
   "cell_type": "code",
   "execution_count": 19,
   "metadata": {},
   "outputs": [],
   "source": [
    "import tkinter\n",
    "import time\n",
    "\n",
    "class graphics:\n",
    "    def __init__(self, w, h, title):\n",
    "        ''' Initialize the graphics object.\n",
    "        Creates a new tkinter Tk object, \n",
    "        and a tkinter Canvas object,\n",
    "        placed insize the Tk object.\n",
    "        '''\n",
    "        self.primary = tkinter.Tk()\n",
    "        self.primary.title(title)\n",
    "        self.primary.geometry('%dx%d+%d+%d' % (w, h, 50, 100))\n",
    "        self.canvas = tkinter.Canvas(self.primary, width=w, height=h, highlightthickness=0)\n",
    "        self.canvas.focus_set()\n",
    "        self.canvas.pack()\n",
    "        self.mouse_x = 0\n",
    "        self.mouse_y = 0\n",
    "        self.images = {}\n",
    "        self.frame_count = 0\n",
    "        self.__handle_motion()\n",
    "\n",
    "    '''\n",
    "    BEGIN PRIVATE FUNCTION(S)\n",
    "    '''\n",
    "\n",
    "    def __handle_motion(self):\n",
    "        ''' Ensure mouse x and y coordinates are updated when mouse moves.\n",
    "        '''\n",
    "        def motion_action(event):\n",
    "            self.mouse_x = event.x\n",
    "            self.mouse_y = event.y\n",
    "        self.canvas.bind('<Motion>', motion_action)\n",
    "\n",
    "    '''\n",
    "    END PRIVATE FUNCTION(S)\n",
    "    '''\n",
    "\n",
    "    def resize(self, width, height):\n",
    "        self.primary.geometry(str(width) + 'x' + str(height))\n",
    "\n",
    "    def text(self, x, y, content, fill='black', size=17):\n",
    "        ''' Draw text on the canvas.\n",
    "        Must always specify the text, x, y position.\n",
    "        Can optionally specify the fill color and size.\n",
    "        '''\n",
    "        text = self.canvas.create_text(x, y, text=content, fill=fill, font=('Arial', size), anchor='nw')\n",
    "        self.canvas.move(text, 0, 0)\n",
    "   \n",
    "    def set_left_click_action(self, callee):\n",
    "        ''' Call the callee function whenever the left click happens.\n",
    "        callee should take two parameters, the mouse x and mouse y coordinates.\n",
    "        '''\n",
    "        def left_click_action(event):\n",
    "            callee(self, event.x, event.y)\n",
    "        ''' <Button-1> is the left-most mouse button '''\n",
    "        self.canvas.bind('<Button-1>', left_click_action)\n",
    "    \n",
    "    def set_right_click_action(self, callee):\n",
    "        ''' Call the callee function whenever the right click happens.\n",
    "        callee should take two parameters, the mouse x and mouse y coordinates.\n",
    "        '''\n",
    "        def right_click_action(event):\n",
    "            callee(self, event.x, event.y)\n",
    "        ''' <Button-2> or <Button-3> is the right-most mouse button.\n",
    "        Both are set just in case '''\n",
    "        self.canvas.bind('<Button-2>', right_click_action)\n",
    "        self.canvas.bind('<Button-3>', right_click_action)\n",
    "    \n",
    "    def set_keyboard_action(self, callee):\n",
    "        ''' Call the callee function whenever a keyboard key is pressed.\n",
    "        callee should take one parameter, a char representing the key.\n",
    "        '''\n",
    "        def keyboard_action(event):\n",
    "            callee(self, event.char)\n",
    "        self.canvas.bind('<KeyPress>', keyboard_action)\n",
    "\n",
    "    def get_color_string(self, red, green, blue):\n",
    "        ''' accepts three ints that should represent and RGB color.\n",
    "        Returns a hex string'''\n",
    "        hex_string = hex(red)[2:].rjust(2, '0') + \\\n",
    "                     hex(green)[2:].rjust(2, '0') + \\\n",
    "                     hex(blue)[2:].rjust(2, '0')\n",
    "        return '#' + hex_string\n",
    "\n",
    "    def triangle(self, x1, y1, x2, y2, x3, y3, fill='black'):\n",
    "        ''' Draw a triangle.\n",
    "        The three corners of the triangle are specified with the parameter coordinates.\n",
    "        '''\n",
    "        r = self.canvas.create_polygon(x1, y1, x2, y2, x3, y3, fill=fill)\n",
    "        self.canvas.move(r, 0, 0)\n",
    "    \n",
    "    def line(self, x1, y1, x2, y2, fill='black', width=3):\n",
    "        ''' Draw a line.\n",
    "        The two ends of the line are specified with the parameter coordinates.\n",
    "        '''\n",
    "        r = self.canvas.create_line(x1, y1, x2, y2, fill=fill, width=width)\n",
    "        self.canvas.move(r, 0, 0)\n",
    "    \n",
    "    def ellipse(self, x, y, w, h, fill='black'):\n",
    "        ''' Draw an ellipse on the canvas.\n",
    "        Specify x, y (center of ellipse) and width / height.\n",
    "        '''\n",
    "        r = self.canvas.create_oval(x-(w/2), y-(h/2), x+(w/2), y+(h/2), fill=fill, outline='')\n",
    "        self.canvas.move(r, 0, 0)\n",
    "    \n",
    "    def rectangle(self, x, y, w, h, fill='black'):\n",
    "        ''' Draw a rectangle on the canvas.\n",
    "        Specify x, y (top-left corner) and width / height.\n",
    "        '''\n",
    "        r = self.canvas.create_rectangle(x, y, x+w, h+y, fill=fill, outline='')\n",
    "        self.canvas.move(r, 0, 0)\n",
    "    \n",
    "    def image(self, x, y, up_scale, down_scale, file_name):\n",
    "        ''' Draw an image on the canvas.\n",
    "        Specify x, y (top-left corner) and width / height.\n",
    "        '''\n",
    "        if file_name not in self.images:\n",
    "            self.images[file_name] = tkinter.PhotoImage(file=file_name)\n",
    "        self.images[file_name] = self.images[file_name].zoom(up_scale, up_scale)\n",
    "        self.images[file_name] = self.images[file_name].subsample(down_scale, down_scale)\n",
    "        i = self.canvas.create_image(x, y, anchor='nw', image=self.images[file_name])\n",
    "        self.canvas.move(i, 0, 0)\n",
    "        return self.images[file_name]\n",
    "\n",
    "    def update(self):\n",
    "        ''' Does an idle task update and regular update.\n",
    "        '''\n",
    "        self.primary.update_idletasks()\n",
    "        self.primary.update()\n",
    "\n",
    "    def frame_space(self, frame_rate):\n",
    "        ''' Sleeps for a time that corresponds to the provided frame rate.\n",
    "        '''\n",
    "        sleep_ms = 1.0 / float(frame_rate)\n",
    "        time.sleep(sleep_ms)\n",
    "\n",
    "    def update_frame(self, frame_rate):\n",
    "        ''' Updates and sleeps.\n",
    "        This should be called at the end of each iteration of a users draw loop.\n",
    "        '''\n",
    "        self.update()\n",
    "        self.frame_space(frame_rate)\n",
    "        self.frame_count += 1\n",
    "    \n",
    "    def draw(self):\n",
    "        ''' Draw a static graphic. Should be called after specifying the shapes to draw.\n",
    "        '''\n",
    "        self.primary.mainloop()\n",
    "    \n",
    "    def clear(self):\n",
    "        ''' Clears the canvas.m\n",
    "        '''\n",
    "        self.canvas.delete('all')"
   ]
  },
  {
   "cell_type": "code",
   "execution_count": 21,
   "metadata": {},
   "outputs": [],
   "source": [
    "from graphics import graphics"
   ]
  },
  {
   "cell_type": "code",
   "execution_count": 22,
   "metadata": {},
   "outputs": [
    {
     "name": "stdout",
     "output_type": "stream",
     "text": [
      "Let's do some graphics!\n"
     ]
    }
   ],
   "source": [
    "from graphics import graphics\n",
    "\n",
    "def main():\n",
    "    print(\"Let's do some graphics!\")\n",
    "    # TODO: Add more code here\n",
    "\n",
    "main()"
   ]
  },
  {
   "cell_type": "code",
   "execution_count": 23,
   "metadata": {},
   "outputs": [
    {
     "ename": "",
     "evalue": "",
     "output_type": "error",
     "traceback": [
      "\u001b[1;31mThe Kernel crashed while executing code in the current cell or a previous cell. \n",
      "\u001b[1;31mPlease review the code in the cell(s) to identify a possible cause of the failure. \n",
      "\u001b[1;31mClick <a href='https://aka.ms/vscodeJupyterKernelCrash'>here</a> for more info. \n",
      "\u001b[1;31mView Jupyter <a href='command:jupyter.viewOutput'>log</a> for further details."
     ]
    }
   ],
   "source": [
    "myCanvas = graphics(500, 500, \"Flower\")\n",
    "myCanvas.draw()"
   ]
  },
  {
   "cell_type": "code",
   "execution_count": null,
   "metadata": {},
   "outputs": [],
   "source": [
    "myCanvas.rectangle(0, 400, 500, 100, \"green\")"
   ]
  },
  {
   "cell_type": "code",
   "execution_count": null,
   "metadata": {},
   "outputs": [],
   "source": []
  }
 ],
 "metadata": {
  "kernelspec": {
   "display_name": "base",
   "language": "python",
   "name": "python3"
  },
  "language_info": {
   "codemirror_mode": {
    "name": "ipython",
    "version": 3
   },
   "file_extension": ".py",
   "mimetype": "text/x-python",
   "name": "python",
   "nbconvert_exporter": "python",
   "pygments_lexer": "ipython3",
   "version": "3.9.7"
  }
 },
 "nbformat": 4,
 "nbformat_minor": 2
}
