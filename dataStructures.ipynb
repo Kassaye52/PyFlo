{
 "cells": [
  {
   "cell_type": "markdown",
   "metadata": {},
   "source": [
    "# Data Structures"
   ]
  },
  {
   "cell_type": "markdown",
   "metadata": {},
   "source": [
    "#### 1. Lists\n",
    "The List data structure is used to store sequences of values. "
   ]
  },
  {
   "cell_type": "code",
   "execution_count": 1,
   "metadata": {},
   "outputs": [],
   "source": [
    "empty_list = [] \n",
    "numbers = [5, 10, 15]\n",
    "names = ['Sally', 'Young', 'Samantha', 'Keaton']"
   ]
  },
  {
   "cell_type": "code",
   "execution_count": 6,
   "metadata": {},
   "outputs": [
    {
     "name": "stdout",
     "output_type": "stream",
     "text": [
      "['Sally', 'Young', 'Samantha', 'Keaton', 'Jeremiah']\n",
      "['Sally', 'Samantha', 'Jeremiah']\n"
     ]
    }
   ],
   "source": [
    " names = ['Sally', 'Young', 'Samantha', 'Keaton']\n",
    " names.append('Jeremiah')\n",
    " print(names)\n",
    " names.remove('Young')\n",
    " names.remove('Keaton')\n",
    " print(names)"
   ]
  },
  {
   "cell_type": "code",
   "execution_count": 7,
   "metadata": {},
   "outputs": [
    {
     "name": "stdout",
     "output_type": "stream",
     "text": [
      "['Kassayeb', 'Sure']\n",
      "['Kassayeb', 'Sure']\n"
     ]
    }
   ],
   "source": [
    "def main():\n",
    "    line = []\n",
    "    action = \"\"\n",
    "    while action != 'done':\n",
    "        action = input(\"What action should take place? \")\n",
    "        if action == 'join':\n",
    "            name = input(\"Customer name: \")\n",
    "            line.append(name)\n",
    "        if action == 'leave':\n",
    "            name = input(\"Customer name: \")\n",
    "            line.remove(name)\n",
    "        if action == 'show':\n",
    "            print(line)\n",
    "main()"
   ]
  },
  {
   "cell_type": "markdown",
   "metadata": {},
   "source": [
    "### Indexing and Iteration with Lists"
   ]
  },
  {
   "cell_type": "code",
   "execution_count": 1,
   "metadata": {},
   "outputs": [
    {
     "name": "stdout",
     "output_type": "stream",
     "text": [
      "5 and 30\n"
     ]
    }
   ],
   "source": [
    "numbers = [2, 5, 15, 20, 25, 30, 25]\n",
    "x = numbers[1]\n",
    "print(x, 'and', numbers[x])"
   ]
  },
  {
   "cell_type": "code",
   "execution_count": 2,
   "metadata": {},
   "outputs": [
    {
     "name": "stdout",
     "output_type": "stream",
     "text": [
      "[5, 5, 100, 20, 35, 30, 20]\n"
     ]
    }
   ],
   "source": [
    "numbers = [2, 5, 15, 20, 25, 30, 25]\n",
    "numbers[2] = 100\n",
    "numbers[4] += 10\n",
    "numbers[-1] -= 5\n",
    "numbers[0] = numbers[1]\n",
    "print(numbers)"
   ]
  },
  {
   "cell_type": "code",
   "execution_count": 3,
   "metadata": {},
   "outputs": [
    {
     "ename": "TypeError",
     "evalue": "'str' object does not support item assignment",
     "output_type": "error",
     "traceback": [
      "\u001b[0;31m---------------------------------------------------------------------------\u001b[0m",
      "\u001b[0;31mTypeError\u001b[0m                                 Traceback (most recent call last)",
      "\u001b[0;32m/var/folders/76/xs74b8wd5y1d4jslcyz534sh0000gn/T/ipykernel_14233/2483108769.py\u001b[0m in \u001b[0;36m<module>\u001b[0;34m\u001b[0m\n\u001b[1;32m      1\u001b[0m \u001b[0mword\u001b[0m \u001b[0;34m=\u001b[0m \u001b[0;34m'Read'\u001b[0m\u001b[0;34m\u001b[0m\u001b[0;34m\u001b[0m\u001b[0m\n\u001b[0;32m----> 2\u001b[0;31m \u001b[0mword\u001b[0m\u001b[0;34m[\u001b[0m\u001b[0;36m0\u001b[0m\u001b[0;34m]\u001b[0m \u001b[0;34m=\u001b[0m \u001b[0;34m'B'\u001b[0m\u001b[0;34m\u001b[0m\u001b[0;34m\u001b[0m\u001b[0m\n\u001b[0m",
      "\u001b[0;31mTypeError\u001b[0m: 'str' object does not support item assignment"
     ]
    }
   ],
   "source": [
    "word = 'Read'\n",
    "word[0] = 'B'"
   ]
  },
  {
   "cell_type": "code",
   "execution_count": 4,
   "metadata": {},
   "outputs": [
    {
     "name": "stdout",
     "output_type": "stream",
     "text": [
      "10\n",
      "20\n",
      "30\n",
      "40\n"
     ]
    }
   ],
   "source": [
    "numbers = [10, 20, 30, 40]\n",
    "\n",
    "# Print out all of the numbers\n",
    "i = 0\n",
    "while i < len(numbers):  # the len() function works for lists too!\n",
    "    print( numbers[i] )\n",
    "    i += 1\n"
   ]
  },
  {
   "cell_type": "code",
   "execution_count": 5,
   "metadata": {},
   "outputs": [
    {
     "name": "stdout",
     "output_type": "stream",
     "text": [
      "10\n",
      "20\n",
      "30\n",
      "40\n"
     ]
    }
   ],
   "source": [
    "# Also prints out all of the numbers\n",
    "for i in range(len(numbers)):\n",
    "    print( numbers[i] )"
   ]
  },
  {
   "cell_type": "code",
   "execution_count": 7,
   "metadata": {},
   "outputs": [],
   "source": [
    "purchases = [10.45, 84.91, 30.21, 60.02]\n",
    "def get_average(purchases):\n",
    "    average = 0.0\n",
    "    for i in range(len(purchases)):\n",
    "        average += purchases[i]\n",
    "    return average / len(purchases)"
   ]
  },
  {
   "cell_type": "code",
   "execution_count": 8,
   "metadata": {},
   "outputs": [
    {
     "data": {
      "text/plain": [
       "46.3975"
      ]
     },
     "execution_count": 8,
     "metadata": {},
     "output_type": "execute_result"
    }
   ],
   "source": [
    "get_average(purchases)"
   ]
  },
  {
   "cell_type": "code",
   "execution_count": 11,
   "metadata": {},
   "outputs": [],
   "source": [
    "def get_max(purchases):\n",
    "    largest = 0.0\n",
    "    for i in range(len(purchases)):\n",
    "        if purchases[i] > largest:\n",
    "            largest = purchases[i]\n",
    "    return largest\n",
    "    "
   ]
  },
  {
   "cell_type": "code",
   "execution_count": 12,
   "metadata": {},
   "outputs": [
    {
     "data": {
      "text/plain": [
       "84.91"
      ]
     },
     "execution_count": 12,
     "metadata": {},
     "output_type": "execute_result"
    }
   ],
   "source": [
    "get_max(purchases)"
   ]
  },
  {
   "cell_type": "markdown",
   "metadata": {},
   "source": [
    "### 2-Dimensional Lists"
   ]
  },
  {
   "cell_type": "code",
   "execution_count": 13,
   "metadata": {},
   "outputs": [],
   "source": [
    "grid = [ [1, 2], [3, 4] ]"
   ]
  },
  {
   "cell_type": "code",
   "execution_count": 15,
   "metadata": {},
   "outputs": [],
   "source": [
    "grades = [ ['Jane Sammy', 80, 93, 84, 87],\n",
    "           ['Karyn Small', 97, 98, 91, 92],\n",
    "           ['Steve Carrol', 87, 75, 73, 81],\n",
    "           ['Brady Richards', 70, 81, 91, 92]]"
   ]
  },
  {
   "cell_type": "code",
   "execution_count": 20,
   "metadata": {},
   "outputs": [],
   "source": [
    "def print_final_grades(grades):\n",
    "    for i in range(len(grades)):\n",
    "        grade_sum = 0\n",
    "        for gi in range(1,5):\n",
    "            grade_sum += grades[i][gi]\n",
    "        print(grades[i][0], '->', str(grade_sum/4))"
   ]
  },
  {
   "cell_type": "code",
   "execution_count": 21,
   "metadata": {},
   "outputs": [
    {
     "name": "stdout",
     "output_type": "stream",
     "text": [
      "Jane Sammy -> 86.0\n",
      "Karyn Small -> 94.5\n",
      "Steve Carrol -> 79.0\n",
      "Brady Richards -> 83.5\n"
     ]
    }
   ],
   "source": [
    "print_final_grades(grades)"
   ]
  },
  {
   "cell_type": "code",
   "execution_count": 23,
   "metadata": {},
   "outputs": [],
   "source": [
    "def print_overall_grade_average(grades):\n",
    "    grade_sum = 0\n",
    "    for i in range(len(grades)):\n",
    "        for gi in range(1, 5):\n",
    "            grade_sum += grades[i][gi]\n",
    "    print('Average overall exam grade:', str(grade_sum/(len(grades)*4)))"
   ]
  },
  {
   "cell_type": "code",
   "execution_count": 24,
   "metadata": {},
   "outputs": [
    {
     "name": "stdout",
     "output_type": "stream",
     "text": [
      "Average overall exam grade: 85.75\n"
     ]
    }
   ],
   "source": [
    "print_overall_grade_average(grades)"
   ]
  },
  {
   "cell_type": "markdown",
   "metadata": {},
   "source": [
    "#### 2. Dictionaries\n",
    "The Dictionary data structure is used to store associations between pairs of values. "
   ]
  },
  {
   "cell_type": "code",
   "execution_count": 25,
   "metadata": {},
   "outputs": [],
   "source": [
    "# An empty dictionary with no key+value mappings\n",
    "nothing = { }\n",
    "\n",
    "# Two key/value pairs\n",
    "contacts = {'Sally Sandwood': '409-128-0881', 'Richard Carnegie': '409-871-9012'}\n",
    "\n",
    "# Three key/value pairs\n",
    "pantry = {'protein bar': 200, 'apple': 50, 'banana':110 }"
   ]
  },
  {
   "cell_type": "code",
   "execution_count": 26,
   "metadata": {},
   "outputs": [
    {
     "name": "stdout",
     "output_type": "stream",
     "text": [
      "{'protein bar': 200, 'apple': 50, 'cookie': 300, 'beans': 75}\n"
     ]
    }
   ],
   "source": [
    "pantry = {'protein bar': 200, 'apple': 50 }\n",
    "pantry['cookie'] = 300;\n",
    "pantry['beans'] = 75;\n",
    "print(pantry)"
   ]
  },
  {
   "cell_type": "code",
   "execution_count": 27,
   "metadata": {},
   "outputs": [
    {
     "name": "stdout",
     "output_type": "stream",
     "text": [
      "{'protein bar': 200, 'apple': 50}\n",
      "{'protein bar': 200, 'apple': 50, 'orange': 75}\n",
      "{'protein bar': 200, 'orange': 75}\n"
     ]
    }
   ],
   "source": [
    "pantry = {'protein bar': 200, 'apple': 50 }\n",
    "print(pantry)\n",
    "pantry['orange'] = 75\n",
    "print(pantry)\n",
    "del pantry['apple']\n",
    "print(pantry)"
   ]
  },
  {
   "cell_type": "code",
   "execution_count": 28,
   "metadata": {},
   "outputs": [],
   "source": [
    "def add_food(pantry):\n",
    "    '''\n",
    "    This function should add a new food \n",
    "    item to the pantry dictionary.\n",
    "    '''\n",
    "\n",
    "def remove_food(data):\n",
    "    '''\n",
    "    This function should remove an existing \n",
    "    food item from the pantry dictionary.\n",
    "    '''\n",
    "\n",
    "def show_food(data):\n",
    "    '''\n",
    "    This function should show all foods\n",
    "    that exist in the pantry.\n",
    "    '''\n",
    "\n",
    "def main():\n",
    "    pantry_items = {}\n",
    "    command = ''\n",
    "    while command != 'done':\n",
    "        command = input('Type add, remove, show, or done: ')\n",
    "        if command == 'add':\n",
    "            add_food(pantry_items)\n",
    "        elif command == 'remove':\n",
    "            remove_food(pantry_items)\n",
    "        elif command == 'show':\n",
    "            show_food(pantry_items)\n",
    "main()"
   ]
  },
  {
   "cell_type": "code",
   "execution_count": 1,
   "metadata": {},
   "outputs": [],
   "source": [
    "def add_food(pantry):\n",
    "    '''\n",
    "    This function should add a new food \n",
    "    item to the pantry dictionary.\n",
    "    '''\n",
    "    food_name = input('Enter the food name: ')\n",
    "    calories = int(input('Enter the food calories: '))\n",
    "    pantry[food_name] = calories"
   ]
  },
  {
   "cell_type": "code",
   "execution_count": 2,
   "metadata": {},
   "outputs": [],
   "source": [
    "def remove_food(pantry):\n",
    "    food_name = input('food to remove: ')\n",
    "    if food_name in pantry:\n",
    "        del pantry[food_name]"
   ]
  },
  {
   "cell_type": "code",
   "execution_count": 3,
   "metadata": {},
   "outputs": [],
   "source": [
    "def show_food(pantry):\n",
    "    for key in pantry:\n",
    "        print(key, '->', pantry[key])"
   ]
  },
  {
   "cell_type": "markdown",
   "metadata": {},
   "source": [
    "### Iteration through Dictionaries"
   ]
  },
  {
   "cell_type": "code",
   "execution_count": 4,
   "metadata": {},
   "outputs": [
    {
     "name": "stdout",
     "output_type": "stream",
     "text": [
      "protein bar\n",
      "apple\n",
      "banana\n"
     ]
    }
   ],
   "source": [
    "pantry = {'protein bar': 200, 'apple': 50, 'banana':110 }\n",
    "for key in pantry:\n",
    "    print(key)"
   ]
  },
  {
   "cell_type": "code",
   "execution_count": 7,
   "metadata": {},
   "outputs": [
    {
     "name": "stdout",
     "output_type": "stream",
     "text": [
      "protein bar : 200\n",
      "apple : 50\n",
      "banana : 110\n"
     ]
    }
   ],
   "source": [
    "pantry = {'protein bar': 200, 'apple': 50, 'banana':110 }\n",
    "for key in pantry:\n",
    "    print(key,':',pantry[key])"
   ]
  },
  {
   "cell_type": "code",
   "execution_count": 11,
   "metadata": {},
   "outputs": [
    {
     "name": "stdout",
     "output_type": "stream",
     "text": [
      "protein bar -> 200\n",
      "apple -> 50\n",
      "banana -> 110\n"
     ]
    }
   ],
   "source": [
    "for food, calories in pantry.items():\n",
    "    print(food, '->', calories)"
   ]
  },
  {
   "cell_type": "code",
   "execution_count": 9,
   "metadata": {},
   "outputs": [],
   "source": [
    "def show_food(pantry):\n",
    "    for key in pantry:\n",
    "        print(key, '->', pantry[key])"
   ]
  },
  {
   "cell_type": "code",
   "execution_count": 10,
   "metadata": {},
   "outputs": [
    {
     "name": "stdout",
     "output_type": "stream",
     "text": [
      "protein bar -> 200\n",
      "apple -> 50\n",
      "banana -> 110\n"
     ]
    }
   ],
   "source": [
    "show_food(pantry)"
   ]
  },
  {
   "cell_type": "markdown",
   "metadata": {},
   "source": [
    "### 3. Sets\n",
    "The Set data structure is used to represent collections of related items with no particular ordering."
   ]
  },
  {
   "cell_type": "code",
   "execution_count": 13,
   "metadata": {},
   "outputs": [],
   "source": [
    "### # Use set() to create empty sets\n",
    "stuff = set()\n",
    "# Can use either set() or just {} if creating a set with elements pre-populated\n",
    "names = set(['Sally', 'Jacelyn', 'Robert', 'Jake'])\n",
    "words = {'antelope', 'star', 'camera', 'computer'}"
   ]
  },
  {
   "cell_type": "code",
   "execution_count": 15,
   "metadata": {},
   "outputs": [
    {
     "name": "stdout",
     "output_type": "stream",
     "text": [
      "{5, 4, 5.921, 7.1}\n"
     ]
    }
   ],
   "source": [
    "# Mixing integers and floats\n",
    "numbers = {5, 7.1, 5.921, 4, 5}\n",
    "print(numbers)"
   ]
  },
  {
   "cell_type": "code",
   "execution_count": 16,
   "metadata": {},
   "outputs": [
    {
     "name": "stdout",
     "output_type": "stream",
     "text": [
      "{'Jane', 'Jeff'}\n"
     ]
    }
   ],
   "source": [
    "names = {'Sally', 'Jeff'}\n",
    "names.add('Jeff')\n",
    "names.discard('Sally')\n",
    "names.add('Jane')\n",
    "print(names)"
   ]
  },
  {
   "cell_type": "code",
   "execution_count": 18,
   "metadata": {},
   "outputs": [
    {
     "name": "stdout",
     "output_type": "stream",
     "text": [
      "But this should.\n"
     ]
    }
   ],
   "source": [
    "names = {'Jeff', 'Jane'}\n",
    "if 'John' in names:\n",
    "    print('This should not print out!')\n",
    "else:\n",
    "    print('But this should.')"
   ]
  },
  {
   "cell_type": "code",
   "execution_count": 19,
   "metadata": {},
   "outputs": [],
   "source": [
    "def add_attendee(attendees, new_person):\n",
    "    if new_person not in attendees:\n",
    "        attendees.add(new_person)\n",
    "        print(new_person, \"is now an attendee\")\n",
    "    else:\n",
    "        print(\"That person is already invited\")"
   ]
  },
  {
   "cell_type": "markdown",
   "metadata": {},
   "source": [
    "### Iterating Through Sets"
   ]
  },
  {
   "cell_type": "code",
   "execution_count": 2,
   "metadata": {},
   "outputs": [
    {
     "name": "stdout",
     "output_type": "stream",
     "text": [
      "{'Jeff', 'Adam', 'Amanda', 'Jane'}\n",
      "{'Jeff', 'Adam', 'Amanda', 'Jane'}\n",
      "{'Jeff', 'Adam', 'Amanda', 'Jane'}\n",
      "{'Jeff', 'Adam', 'Amanda', 'Jane'}\n"
     ]
    }
   ],
   "source": [
    "names = {'Jeff', 'Jane', 'Adam', 'Amanda'}\n",
    "for n in names:\n",
    "    print(names)"
   ]
  },
  {
   "cell_type": "code",
   "execution_count": 3,
   "metadata": {},
   "outputs": [],
   "source": [
    "def get_attendees_with_first_name(attendees, name):\n",
    "    results = set()\n",
    "    for att in attendees:\n",
    "        if att.startswith(name):\n",
    "            results.add(att)\n",
    "    return results"
   ]
  },
  {
   "cell_type": "code",
   "execution_count": 4,
   "metadata": {},
   "outputs": [
    {
     "name": "stdout",
     "output_type": "stream",
     "text": [
      "{'John Jones', 'Johnny Reacher'}\n"
     ]
    }
   ],
   "source": [
    "people = {'John Jones', 'Sally Johnson', 'Carli Johnsonville', 'Johnny Reacher'}\n",
    "r = get_attendees_with_first_name(people, 'John')\n",
    "print(r)"
   ]
  },
  {
   "cell_type": "code",
   "execution_count": 5,
   "metadata": {},
   "outputs": [],
   "source": [
    "def remove_attendees_with_first_name(attendees, name):\n",
    "    for att in attendees:\n",
    "        if att.startswith(name):\n",
    "            results.discard(att)"
   ]
  },
  {
   "cell_type": "markdown",
   "metadata": {},
   "source": [
    "### Combining Data Structures"
   ]
  },
  {
   "cell_type": "code",
   "execution_count": 6,
   "metadata": {},
   "outputs": [],
   "source": [
    "thesaurus = {\n",
    "  'strong' : {'mighty', 'tough', 'robust'},\n",
    "  'small' : {'tiny', 'little'},\n",
    "  'fast' : {'speedy', 'quick'},\n",
    "  'calm' : {'mellow', 'chill', 'relaxed', 'peaceful'}\n",
    "}"
   ]
  },
  {
   "cell_type": "code",
   "execution_count": 7,
   "metadata": {},
   "outputs": [],
   "source": [
    "def find_similar_words(thesaurus):\n",
    "    primary_word = input('What word do you want to find similar words for? ')\n",
    "    if primary_word in thesaurus:\n",
    "        print('Here are some ideas:')\n",
    "        for word in thesaurus[primary_word]:\n",
    "            print('  ' + word)\n",
    "    else:\n",
    "        print('I don\\'t know about that word!')"
   ]
  },
  {
   "cell_type": "code",
   "execution_count": 8,
   "metadata": {},
   "outputs": [
    {
     "name": "stdout",
     "output_type": "stream",
     "text": [
      "Here are some ideas:\n",
      "  tough\n",
      "  mighty\n",
      "  robust\n"
     ]
    }
   ],
   "source": [
    "find_similar_words(thesaurus)"
   ]
  },
  {
   "cell_type": "code",
   "execution_count": 9,
   "metadata": {},
   "outputs": [],
   "source": [
    "def save_thesaurus(thes):\n",
    "    f = open('thesaurus.txt', 'w')\n",
    "    for k, v in thes.items():\n",
    "        l = list(v)\n",
    "        f.write(k + ' : ' + ' '.join(l) + '\\n')\n",
    "    f.close()"
   ]
  },
  {
   "cell_type": "code",
   "execution_count": 10,
   "metadata": {},
   "outputs": [],
   "source": [
    "save_thesaurus(thesaurus)"
   ]
  },
  {
   "cell_type": "code",
   "execution_count": 12,
   "metadata": {},
   "outputs": [],
   "source": [
    "def add_line(thes, line):\n",
    "    sp = line.split(' : ')\n",
    "    for word in sp[1].split(' '):\n",
    "        add_word(thes, sp[0], word)\n",
    "\n",
    "def load_thesaurus(thes):\n",
    "    f = open('thesaurus.txt', 'r')\n",
    "    lines = f.readlines()\n",
    "    for line in lines:\n",
    "        add_line(thes, line.strip('\\n'))"
   ]
  },
  {
   "cell_type": "code",
   "execution_count": 15,
   "metadata": {},
   "outputs": [
    {
     "name": "stdout",
     "output_type": "stream",
     "text": [
      "Here is the string: \n",
      "giraffe\n"
     ]
    }
   ],
   "source": [
    "def process(x):\n",
    "    print('Here is the string: ')\n",
    "    print(x)\n",
    "\n",
    "animal = 'giraffe'\n",
    "process(animal)"
   ]
  },
  {
   "cell_type": "code",
   "execution_count": 16,
   "metadata": {},
   "outputs": [
    {
     "name": "stdout",
     "output_type": "stream",
     "text": [
      "giraffes\n"
     ]
    }
   ],
   "source": [
    "def process(x):\n",
    "    x += 's'\n",
    "    print(x)\n",
    "\n",
    "animal = 'giraffe'\n",
    "process(animal)"
   ]
  },
  {
   "cell_type": "code",
   "execution_count": 20,
   "metadata": {},
   "outputs": [
    {
     "name": "stdout",
     "output_type": "stream",
     "text": [
      "giraffe\n",
      "['giraffe', 'lion']\n"
     ]
    }
   ],
   "source": [
    "def process(x):\n",
    "    list(x).append('zebra')\n",
    "    print(x)\n",
    "\n",
    "animals = ['giraffe', 'lion']\n",
    "process(animal)\n",
    "print(animals)"
   ]
  },
  {
   "cell_type": "code",
   "execution_count": 21,
   "metadata": {},
   "outputs": [
    {
     "name": "stdout",
     "output_type": "stream",
     "text": [
      "ID A: 140408396732592\n",
      "ID B: 140408396730928\n",
      "ID C: 140408396732592\n"
     ]
    }
   ],
   "source": [
    "def process(x):\n",
    "    print('ID A:', id(x))\n",
    "    x += 's'\n",
    "    print('ID B:', id(x))\n",
    "\n",
    "animal = 'giraffe'\n",
    "process(animal)\n",
    "print('ID C:', id(animal))"
   ]
  },
  {
   "cell_type": "code",
   "execution_count": 23,
   "metadata": {},
   "outputs": [
    {
     "name": "stdout",
     "output_type": "stream",
     "text": [
      "ID A: 140408396732592\n",
      "ID B: 140408396732592\n",
      "ID C: 140408396730496\n"
     ]
    }
   ],
   "source": [
    "def process(x):\n",
    "    print('ID A:', id(x))\n",
    "    list(x).append('zebra')\n",
    "    print('ID B:', id(x))\n",
    "\n",
    "animals = ['giraffe', 'lion']\n",
    "process(animal)\n",
    "print('ID C:', id(animals))"
   ]
  },
  {
   "cell_type": "markdown",
   "metadata": {},
   "source": [
    "# Drawing Shapes on a Canvas"
   ]
  },
  {
   "cell_type": "code",
   "execution_count": null,
   "metadata": {},
   "outputs": [],
   "source": [
    "from graphics import graphics\n",
    "def main():\n",
    "    print(\"Let's do some graphics!\")\n",
    "    myCanvas = graphics(500, 500, \"Flower\")\n",
    "    myCanvas.rectangle(0, 400, 500, 100, \"green\")\n",
    "    myCanvas.rectangle(0, 0, 500, 400, \"light blue\")\n",
    "    myCanvas.line(250, 200, 250, 450, \"dark green\", 5)\n",
    "    myCanvas.triangle(250, 150, 250, 250, 400, 200, \"purple\")\n",
    "    myCanvas.triangle(250, 150, 250, 250, 100, 200, \"purple\")\n",
    "    myCanvas.triangle(300, 200, 200, 200, 250, 50, \"purple\")\n",
    "    myCanvas.triangle(300, 200, 200, 200, 250, 350, \"purple\")\n",
    "    myCanvas.ellipse(250, 200, 75, 75, \"orange\")\n",
    "    myCanvas.draw()\n",
    "    \n",
    "main()"
   ]
  },
  {
   "cell_type": "code",
   "execution_count": 3,
   "metadata": {},
   "outputs": [],
   "source": [
    "from graphics import graphics                  \n",
    "      \n",
    "def main():       \n",
    "    myCanvas = graphics(500, 500, \"Flower\")\n",
    "      \n",
    "    # The sky, grass, and stem\n",
    "    myCanvas.rectangle(0, 400, 500, 100, \"green\")\n",
    "    myCanvas.rectangle(0, 000, 500, 400, \"light blue\")\n",
    "    myCanvas.line(250, 200, 250, 450, \"dark green\", 15)\n",
    "      \n",
    "    # The left and right flower petals\n",
    "    myCanvas.triangle(250, 150, 250, 250, 400, 200, \"purple\")\n",
    "    myCanvas.triangle(250, 150, 250, 250, 100, 200, \"purple\")\n",
    "      \n",
    "    # The up and down flower petals\n",
    "    myCanvas.triangle(300, 200, 200, 200, 250, 50, \"purple\")\n",
    "    myCanvas.triangle(300, 200, 200, 200, 250, 350, \"purple\")\n",
    "      \n",
    "    # The center of the flower\n",
    "    myCanvas.ellipse(250, 200, 100, 100, \"dark orange\")\n",
    "      \n",
    "    myCanvas.draw()\n",
    "      \n",
    "main()\n"
   ]
  },
  {
   "cell_type": "markdown",
   "metadata": {},
   "source": [
    "# Color, RGB, and Graphics"
   ]
  },
  {
   "cell_type": "code",
   "execution_count": 5,
   "metadata": {},
   "outputs": [],
   "source": [
    "from graphics import graphics\n",
    "\n",
    "def main():\n",
    "    myCanvas = graphics(500, 500, \"Flower\")\n",
    "\n",
    "    # The sky, grass, and stem\n",
    "    myCanvas.rectangle(0, 400, 500, 100, \"green\")\n",
    "    myCanvas.rectangle(0, 000, 500, 400, \"light blue\")\n",
    "    myCanvas.line(250, 200, 250, 450, \"dark green\", 15)\n",
    "\n",
    "    # The left and right flower petals\n",
    "    petal_color_1 = myCanvas.get_color_string(200, 100, 250)\n",
    "    myCanvas.triangle(250, 150, 250, 250, 400, 200, petal_color_1)\n",
    "    myCanvas.triangle(250, 150, 250, 250, 100, 200, petal_color_1)\n",
    "\n",
    "    # The up and down flower petals\n",
    "    petal_color_2 = myCanvas.get_color_string(150, 250, 75)\n",
    "    myCanvas.triangle(300, 200, 200, 200, 250, 50, petal_color_2)\n",
    "    myCanvas.triangle(300, 200, 200, 200, 250, 350, petal_color_2)\n",
    "\n",
    "    # The center of the flower\n",
    "    myCanvas.ellipse(250, 200, 100, 100, \"dark orange\")\n",
    "\n",
    "    myCanvas.draw()\n",
    "\n",
    "main()"
   ]
  },
  {
   "cell_type": "markdown",
   "metadata": {},
   "source": [
    "# Complex Shapes"
   ]
  },
  {
   "cell_type": "markdown",
   "metadata": {},
   "source": [
    "#### Creating a Plus-Sign Function\n"
   ]
  },
  {
   "cell_type": "code",
   "execution_count": 7,
   "metadata": {},
   "outputs": [],
   "source": [
    "# \n",
    "def plus(canvas, x, y, w, h, color, thickness):\n",
    "    '''     \n",
    "    The plus function draw a plus sign centered at x, y.\n",
    "    Parameter information:\n",
    "       * canvas: the graphics object to draw the plus on. \n",
    "       * x and y: The coordinates for the center of the plus.\n",
    "       * w and h: Width and height.\n",
    "       * color: The fill color.\n",
    "       * thickness: How thick the plus should be. \n",
    "    '''     \n",
    "    canvas.line(x-(w/2), y, x+(w/2), y, color, thickness)\n",
    "    canvas.line(x, y-(h/2), x, y+(h/2), color, thickness)"
   ]
  },
  {
   "cell_type": "code",
   "execution_count": null,
   "metadata": {},
   "outputs": [],
   "source": [
    "from graphics import graphics\n",
    "\n",
    "def main():  \n",
    "    gui = graphics(500, 500, 'plusses') \n",
    "    gui.rectangle(0, 0, 500, 500, 'white')\n",
    "    plus(gui, 250, 250, 400, 400, 'green', 50)\n",
    "    plus(gui, 100, 100, 50, 50, 'blue', 10)\n",
    "    gui.draw()\n",
    "\n",
    "main()"
   ]
  },
  {
   "cell_type": "markdown",
   "metadata": {},
   "source": [
    "# Creating a Smiley Function"
   ]
  },
  {
   "cell_type": "code",
   "execution_count": 9,
   "metadata": {},
   "outputs": [],
   "source": [
    "def smiley(canvas, x, y, size, color):\n",
    "    '''\n",
    "    Draws a smiley face wherever we want!\n",
    "    Parameter information:\n",
    "       * canvas: the graphics object to draw the plus on.\n",
    "       * x and y: The coordinates for the center of the plus.\n",
    "       * size: determines the width and height.\n",
    "       * color: The fill color.\n",
    "    '''\n",
    "    canvas.ellipse(x, y, size, size, color)\n",
    "    canvas.ellipse(x, y+(size/10), (size/2), (size/2), 'black')\n",
    "    canvas.rectangle(x-(size/3), y-(size/4), (size/1.5), (size/3), color)\n",
    "    canvas.ellipse(x+(size/5), y-(size/5), (size/7), (size/7), 'black')\n",
    "    canvas.ellipse(x-(size/5), y-(size/5), (size/7), (size/7), 'black')"
   ]
  },
  {
   "cell_type": "code",
   "execution_count": 10,
   "metadata": {},
   "outputs": [],
   "source": [
    "def main():\n",
    "    gui = graphics(500, 500, 'plusses')\n",
    "    gui.rectangle(0, 0, 500, 500, 'white')\n",
    "    smiley(gui, 125, 125, 200, 'orange')\n",
    "    smiley(gui, 125, 375, 200, 'light green')\n",
    "    smiley(gui, 375, 125, 200, 'light blue')\n",
    "    smiley(gui, 375, 375, 200, 'purple')\n",
    "    gui.draw()\n",
    "\n",
    "main()"
   ]
  },
  {
   "cell_type": "markdown",
   "metadata": {},
   "source": [
    "# Animation"
   ]
  },
  {
   "cell_type": "code",
   "execution_count": null,
   "metadata": {},
   "outputs": [],
   "source": [
    "def main():\n",
    "    canvas = graphics(500, 350, 'ball drop')\n",
    "\n",
    "    while True:\n",
    "        canvas.clear()\n",
    "        canvas.rectangle(0, 0, 500, 350, 'orange')\n",
    "        canvas.ellipse(250, 50, 75, 75, 'gray')\n",
    "        canvas.update_frame(30)\n",
    "\n",
    "main()"
   ]
  },
  {
   "cell_type": "code",
   "execution_count": null,
   "metadata": {},
   "outputs": [],
   "source": [
    "def main():\n",
    "    canvas = graphics(500, 350, 'ball drop')\n",
    "\n",
    "    y = -100\n",
    "    while True:\n",
    "        canvas.clear()\n",
    "        canvas.rectangle(0, 0, 500, 350, 'orange')\n",
    "        canvas.ellipse(250, y, 75, 75, 'gray')\n",
    "        y += 4\n",
    "        canvas.update_frame(30)\n",
    "\n",
    "main()"
   ]
  },
  {
   "cell_type": "code",
   "execution_count": null,
   "metadata": {},
   "outputs": [],
   "source": [
    "def main():\n",
    "    canvas = graphics(700, 500, 'moving balls')\n",
    "    while True:\n",
    "        canvas.clear()\n",
    "        print(canvas.mouse_x, canvas.mouse_y)\n",
    "        canvas.update_frame(30)\n",
    "         \n",
    "main()  "
   ]
  },
  {
   "cell_type": "code",
   "execution_count": null,
   "metadata": {},
   "outputs": [],
   "source": [
    "\n",
    "def main():\n",
    "    canvas = graphics(700, 500, 'moving balls')\n",
    "    coord = -100                \n",
    "    while True:\n",
    "      canvas.clear()           \n",
    "      canvas.rectangle(0, 0, 500, 350, 'orange')\n",
    "      canvas.ellipse(250, coord, 75, 75, 'gray')\n",
    "      canvas.ellipse(canvas.mouse_x, canvas.mouse_y, 75, 75, 'blue')\n",
    "      coord += 4               \n",
    "      canvas.update_frame(30)\n",
    "         \n",
    "main() "
   ]
  },
  {
   "cell_type": "code",
   "execution_count": null,
   "metadata": {},
   "outputs": [],
   "source": [
    "while True:\n",
    "    canvas.clear()\n",
    "    canvas.rectangle(0, 0, 800, 400, 'light blue')\n",
    "    smiley(canvas, canvas.mouse_x+75, canvas.mouse_y, 110, 'purple')\n",
    "    smiley(canvas, canvas.mouse_x-75, canvas.mouse_y, 110, 'green')\n",
    "    canvas.update_frame(30)"
   ]
  },
  {
   "cell_type": "markdown",
   "metadata": {},
   "source": [
    "# Mouse Clicks\n"
   ]
  },
  {
   "cell_type": "code",
   "execution_count": 27,
   "metadata": {},
   "outputs": [],
   "source": [
    "def mouse_left(c, x, y):\n",
    "   c.ellipse(x, y, 100, 100, \"orange\")\n",
    "\n",
    "def main():                 \n",
    "    canvas = graphics(800, 500, \"clicks\")\n",
    "    canvas.set_left_click_action(mouse_left)\n",
    "\n",
    "main()"
   ]
  },
  {
   "cell_type": "code",
   "execution_count": null,
   "metadata": {},
   "outputs": [],
   "source": [
    "def mouse_left(c, x, y): \n",
    "   c.ellipse(x, y, 100, 100, \"orange\")\n",
    "                         \n",
    "def main():              \n",
    "    canvas = graphics(800, 500, \"clicks\")\n",
    "    canvas.set_left_click_action(mouse_left)\n",
    "    while True:          \n",
    "        canvas.clear()\n",
    "        canvas.rectangle(0, 0, 800, 500, \"grey\")\n",
    "        canvas.update_frame(15) \n",
    "main()"
   ]
  },
  {
   "cell_type": "code",
   "execution_count": null,
   "metadata": {},
   "outputs": [],
   "source": [
    "from graphics import graphics\n",
    "                        \n",
    "def mouse_left(c, x, y):\n",
    "   c.ellipse(x, y, 150, 150, \"orange\")\n",
    "                        \n",
    "def mouse_right(c, x, y):\n",
    "   c.ellipse(x, y, 75, 75, \"blue\")\n",
    "                        \n",
    "def main():             \n",
    "    canvas = graphics(800, 500, \"clicks\")\n",
    "    canvas.set_left_click_action(mouse_left)\n",
    "    canvas.set_right_click_action(mouse_right)\n",
    "    canvas.rectangle(0, 0, 800, 500, \"grey\")\n",
    "    while True:         \n",
    "        canvas.update_frame(15)\n",
    "\n",
    "main()"
   ]
  },
  {
   "cell_type": "markdown",
   "metadata": {},
   "source": [
    "# PPM Images\n"
   ]
  },
  {
   "cell_type": "markdown",
   "metadata": {},
   "source": [
    "## Creating PPM Images with Python"
   ]
  },
  {
   "cell_type": "code",
   "execution_count": 34,
   "metadata": {},
   "outputs": [],
   "source": [
    "image = open('test_image.ppm', 'w')\n",
    "# Write the first three lines of content for a 256 x 256 image\n",
    "image.write('P3\\n256 256\\n255\\n') \n",
    "image.close()"
   ]
  },
  {
   "cell_type": "code",
   "execution_count": 35,
   "metadata": {},
   "outputs": [],
   "source": [
    "image = open('test_image.ppm', 'w')\n",
    "# Write the first three lines of content for a 256 x 256 image\n",
    "image.write('P3\\n256 256\\n255\\n') \n",
    "# Put the pixels in for a black-to-white gradient\n",
    "for i in range(256):\n",
    "    # Create one pixel, using the value of the i variable to determine what shade of grey to make the line\n",
    "    one_pixel = str(i) + ' ' + str(i) + ' ' + str(i) + ' '\n",
    "    # Repeat the pixel 256 times (for the entire row) and then write the row to the file\n",
    "    image.write(one_pixel * 256 + '\\n')\n",
    "image.close()"
   ]
  },
  {
   "cell_type": "code",
   "execution_count": 36,
   "metadata": {},
   "outputs": [],
   "source": [
    "image = open('chessboard.ppm', 'w')\n",
    "image.write('P3\\n8 8\\n255\\n') \n",
    "image.close()"
   ]
  },
  {
   "cell_type": "code",
   "execution_count": 38,
   "metadata": {},
   "outputs": [],
   "source": [
    "image = open('chessboard.ppm', 'w')\n",
    "image.write('P3\\n8 8\\n255\\n')\n",
    "for row in range(8):\n",
    "    for col in range(8):\n",
    "        if col % 2 == row % 2:\n",
    "            image.write(' 220 190 150 ')\n",
    "        else:\n",
    "            image.write(' 100 70 40 ')\n",
    "    image.write('\\n')\n",
    "image.close()"
   ]
  },
  {
   "cell_type": "code",
   "execution_count": 39,
   "metadata": {},
   "outputs": [],
   "source": [
    "image = open('chessboard.ppm', 'w')\n",
    "image.write('P3\\n800 800\\n255\\n')\n",
    "for row in range(800):\n",
    "    for col in range(800):\n",
    "        if col % 200 > 100 and row % 200 > 100:\n",
    "            image.write(' 220 190 150 ')\n",
    "        elif col % 200 < 100 and row % 200 < 100:\n",
    "            image.write(' 220 190 150 ')\n",
    "        else:\n",
    "            image.write(' 100 70 40 ')\n",
    "    image.write('\\n')\n",
    "image.close()"
   ]
  },
  {
   "cell_type": "markdown",
   "metadata": {},
   "source": [
    "# Load PPM with Python"
   ]
  },
  {
   "cell_type": "code",
   "execution_count": 49,
   "metadata": {},
   "outputs": [],
   "source": [
    "image = open('example.ppm', 'r')\n",
    "\n",
    "# This variable stores the string \"p3\" (though, we really don't need this for now)\n",
    "image_format = image.readline().strip()\n",
    "\n",
    "# Get the width and height into separate integer variables\n",
    "width_height = image.readline().strip().split(' ')\n",
    "width = int(width_height[0])\n",
    "height = int(width_height[1])\n",
    "\n",
    "# This variable stores the max value. \n",
    "# The rest of our code will be assuming the max value is 255 since it is so common, so we don't need this either.\n",
    "max_rgb = int(image.readline())"
   ]
  },
  {
   "cell_type": "code",
   "execution_count": 41,
   "metadata": {},
   "outputs": [
    {
     "name": "stdout",
     "output_type": "stream",
     "text": [
      "255\n"
     ]
    }
   ],
   "source": [
    "print(max_rgb)"
   ]
  },
  {
   "cell_type": "code",
   "execution_count": 1,
   "metadata": {},
   "outputs": [
    {
     "ename": "NameError",
     "evalue": "name 'image' is not defined",
     "output_type": "error",
     "traceback": [
      "\u001b[0;31m---------------------------------------------------------------------------\u001b[0m",
      "\u001b[0;31mNameError\u001b[0m                                 Traceback (most recent call last)",
      "\u001b[0;32m/var/folders/76/xs74b8wd5y1d4jslcyz534sh0000gn/T/ipykernel_58976/2266291176.py\u001b[0m in \u001b[0;36m<module>\u001b[0;34m\u001b[0m\n\u001b[1;32m      1\u001b[0m \u001b[0mfull_image\u001b[0m \u001b[0;34m=\u001b[0m \u001b[0;34m[\u001b[0m\u001b[0;34m]\u001b[0m\u001b[0;34m\u001b[0m\u001b[0;34m\u001b[0m\u001b[0m\n\u001b[0;32m----> 2\u001b[0;31m \u001b[0;32mfor\u001b[0m \u001b[0mline\u001b[0m \u001b[0;32min\u001b[0m \u001b[0mimage\u001b[0m\u001b[0;34m:\u001b[0m\u001b[0;34m\u001b[0m\u001b[0;34m\u001b[0m\u001b[0m\n\u001b[0m\u001b[1;32m      3\u001b[0m     \u001b[0mline\u001b[0m \u001b[0;34m=\u001b[0m \u001b[0mline\u001b[0m\u001b[0;34m.\u001b[0m\u001b[0mstrip\u001b[0m\u001b[0;34m(\u001b[0m\u001b[0;34m)\u001b[0m\u001b[0;34m.\u001b[0m\u001b[0msplit\u001b[0m\u001b[0;34m(\u001b[0m\u001b[0;34m)\u001b[0m\u001b[0;34m\u001b[0m\u001b[0;34m\u001b[0m\u001b[0m\n\u001b[1;32m      4\u001b[0m     \u001b[0mrow\u001b[0m \u001b[0;34m=\u001b[0m \u001b[0;34m[\u001b[0m\u001b[0;34m]\u001b[0m\u001b[0;34m\u001b[0m\u001b[0;34m\u001b[0m\u001b[0m\n\u001b[1;32m      5\u001b[0m     \u001b[0;32mfor\u001b[0m \u001b[0mi\u001b[0m \u001b[0;32min\u001b[0m \u001b[0mrange\u001b[0m\u001b[0;34m(\u001b[0m\u001b[0;36m0\u001b[0m\u001b[0;34m,\u001b[0m \u001b[0mlen\u001b[0m\u001b[0;34m(\u001b[0m\u001b[0mline\u001b[0m\u001b[0;34m)\u001b[0m\u001b[0;34m,\u001b[0m \u001b[0;36m3\u001b[0m\u001b[0;34m)\u001b[0m\u001b[0;34m:\u001b[0m\u001b[0;34m\u001b[0m\u001b[0;34m\u001b[0m\u001b[0m\n",
      "\u001b[0;31mNameError\u001b[0m: name 'image' is not defined"
     ]
    }
   ],
   "source": [
    "full_image = []\n",
    "for line in image:\n",
    "    line = line.strip().split()\n",
    "    row = []\n",
    "    for i in range(0, len(line), 3):\n",
    "        pixel = ( int(line[i]), int(line[i+1]), int(line[i+2]) )\n",
    "        row.append(pixel)\n",
    "    full_image.append(row)\n",
    "print(full_image)"
   ]
  },
  {
   "cell_type": "code",
   "execution_count": 7,
   "metadata": {},
   "outputs": [
    {
     "ename": "NameError",
     "evalue": "name 'width' is not defined",
     "output_type": "error",
     "traceback": [
      "\u001b[0;31m---------------------------------------------------------------------------\u001b[0m",
      "\u001b[0;31mNameError\u001b[0m                                 Traceback (most recent call last)",
      "\u001b[0;32m/var/folders/76/xs74b8wd5y1d4jslcyz534sh0000gn/T/ipykernel_58976/1348743615.py\u001b[0m in \u001b[0;36m<module>\u001b[0;34m\u001b[0m\n\u001b[0;32m----> 1\u001b[0;31m \u001b[0mgui\u001b[0m \u001b[0;34m=\u001b[0m \u001b[0mgraphics\u001b[0m\u001b[0;34m(\u001b[0m\u001b[0mwidth\u001b[0m\u001b[0;34m,\u001b[0m \u001b[0mheight\u001b[0m\u001b[0;34m,\u001b[0m \u001b[0;34m'Custom PPM image Viewer'\u001b[0m\u001b[0;34m)\u001b[0m\u001b[0;34m\u001b[0m\u001b[0;34m\u001b[0m\u001b[0m\n\u001b[0m\u001b[1;32m      2\u001b[0m \u001b[0;31m# display the picture in here.... hmmm\u001b[0m\u001b[0;34m\u001b[0m\u001b[0;34m\u001b[0m\u001b[0m\n\u001b[1;32m      3\u001b[0m \u001b[0;34m\u001b[0m\u001b[0m\n\u001b[1;32m      4\u001b[0m \u001b[0;32mfor\u001b[0m \u001b[0mrow\u001b[0m \u001b[0;32min\u001b[0m \u001b[0mrange\u001b[0m\u001b[0;34m(\u001b[0m\u001b[0mlen\u001b[0m\u001b[0;34m(\u001b[0m\u001b[0mfull_image\u001b[0m\u001b[0;34m)\u001b[0m\u001b[0;34m)\u001b[0m\u001b[0;34m:\u001b[0m\u001b[0;34m\u001b[0m\u001b[0;34m\u001b[0m\u001b[0m\n\u001b[1;32m      5\u001b[0m     \u001b[0;32mfor\u001b[0m \u001b[0mcolumn\u001b[0m \u001b[0;32min\u001b[0m \u001b[0mrange\u001b[0m\u001b[0;34m(\u001b[0m\u001b[0mlen\u001b[0m\u001b[0;34m(\u001b[0m\u001b[0mfull_image\u001b[0m\u001b[0;34m[\u001b[0m\u001b[0mrow\u001b[0m\u001b[0;34m]\u001b[0m\u001b[0;34m)\u001b[0m\u001b[0;34m)\u001b[0m\u001b[0;34m:\u001b[0m\u001b[0;34m\u001b[0m\u001b[0;34m\u001b[0m\u001b[0m\n",
      "\u001b[0;31mNameError\u001b[0m: name 'width' is not defined"
     ]
    }
   ],
   "source": [
    "gui = graphics(width, height, 'Custom PPM image Viewer')\n",
    "# display the picture in here.... hmmm\n",
    "\n",
    "for row in range(len(full_image)):\n",
    "    for column in range(len(full_image[row])):\n",
    "        pixel = full_image[row][column]\n",
    "        color = gui.get_color_string(pixel[0], pixel[1], pixel[2])\n",
    "        gui.rectangle(column, row, 1, 1, color)\n",
    "gui.draw()"
   ]
  },
  {
   "cell_type": "code",
   "execution_count": 8,
   "metadata": {},
   "outputs": [
    {
     "ename": "NameError",
     "evalue": "name 'width' is not defined",
     "output_type": "error",
     "traceback": [
      "\u001b[0;31m---------------------------------------------------------------------------\u001b[0m",
      "\u001b[0;31mNameError\u001b[0m                                 Traceback (most recent call last)",
      "\u001b[0;32m/var/folders/76/xs74b8wd5y1d4jslcyz534sh0000gn/T/ipykernel_58976/1451138803.py\u001b[0m in \u001b[0;36m<module>\u001b[0;34m\u001b[0m\n\u001b[1;32m      1\u001b[0m \u001b[0mscale\u001b[0m \u001b[0;34m=\u001b[0m \u001b[0mfloat\u001b[0m\u001b[0;34m(\u001b[0m\u001b[0minput\u001b[0m\u001b[0;34m(\u001b[0m\u001b[0;34m'How should I scale the image for you? '\u001b[0m\u001b[0;34m)\u001b[0m\u001b[0;34m)\u001b[0m\u001b[0;34m\u001b[0m\u001b[0;34m\u001b[0m\u001b[0m\n\u001b[0;32m----> 2\u001b[0;31m \u001b[0mgui\u001b[0m \u001b[0;34m=\u001b[0m \u001b[0mgraphics\u001b[0m\u001b[0;34m(\u001b[0m\u001b[0mwidth\u001b[0m \u001b[0;34m*\u001b[0m \u001b[0mscale\u001b[0m\u001b[0;34m,\u001b[0m \u001b[0mheight\u001b[0m \u001b[0;34m*\u001b[0m \u001b[0mscale\u001b[0m\u001b[0;34m,\u001b[0m \u001b[0;34m'Custom PPM image Viewer'\u001b[0m\u001b[0;34m)\u001b[0m\u001b[0;34m\u001b[0m\u001b[0;34m\u001b[0m\u001b[0m\n\u001b[0m\u001b[1;32m      3\u001b[0m \u001b[0;32mfor\u001b[0m \u001b[0mrow\u001b[0m \u001b[0;32min\u001b[0m \u001b[0mrange\u001b[0m\u001b[0;34m(\u001b[0m\u001b[0mlen\u001b[0m\u001b[0;34m(\u001b[0m\u001b[0mfull_image\u001b[0m\u001b[0;34m)\u001b[0m\u001b[0;34m)\u001b[0m\u001b[0;34m:\u001b[0m\u001b[0;34m\u001b[0m\u001b[0;34m\u001b[0m\u001b[0m\n\u001b[1;32m      4\u001b[0m     \u001b[0;32mfor\u001b[0m \u001b[0mcolumn\u001b[0m \u001b[0;32min\u001b[0m \u001b[0mrange\u001b[0m\u001b[0;34m(\u001b[0m\u001b[0mlen\u001b[0m\u001b[0;34m(\u001b[0m\u001b[0mfull_image\u001b[0m\u001b[0;34m[\u001b[0m\u001b[0mrow\u001b[0m\u001b[0;34m]\u001b[0m\u001b[0;34m)\u001b[0m\u001b[0;34m)\u001b[0m\u001b[0;34m:\u001b[0m\u001b[0;34m\u001b[0m\u001b[0;34m\u001b[0m\u001b[0m\n\u001b[1;32m      5\u001b[0m         \u001b[0mpixel\u001b[0m \u001b[0;34m=\u001b[0m \u001b[0mfull_image\u001b[0m\u001b[0;34m[\u001b[0m\u001b[0mrow\u001b[0m\u001b[0;34m]\u001b[0m\u001b[0;34m[\u001b[0m\u001b[0mcolumn\u001b[0m\u001b[0;34m]\u001b[0m\u001b[0;34m\u001b[0m\u001b[0;34m\u001b[0m\u001b[0m\n",
      "\u001b[0;31mNameError\u001b[0m: name 'width' is not defined"
     ]
    }
   ],
   "source": [
    "scale = float(input('How should I scale the image for you? '))\n",
    "gui = graphics(width * scale, height * scale, 'Custom PPM image Viewer')\n",
    "for row in range(len(full_image)):\n",
    "    for column in range(len(full_image[row])):\n",
    "        pixel = full_image[row][column]\n",
    "        color = gui.get_color_string(pixel[0], pixel[1], pixel[2])\n",
    "        gui.rectangle(column * scale, row * scale, scale, scale, color)\n",
    "gui.draw()"
   ]
  },
  {
   "cell_type": "code",
   "execution_count": null,
   "metadata": {},
   "outputs": [],
   "source": []
  }
 ],
 "metadata": {
  "kernelspec": {
   "display_name": "base",
   "language": "python",
   "name": "python3"
  },
  "language_info": {
   "codemirror_mode": {
    "name": "ipython",
    "version": 3
   },
   "file_extension": ".py",
   "mimetype": "text/x-python",
   "name": "python",
   "nbconvert_exporter": "python",
   "pygments_lexer": "ipython3",
   "version": "3.9.7"
  }
 },
 "nbformat": 4,
 "nbformat_minor": 2
}
