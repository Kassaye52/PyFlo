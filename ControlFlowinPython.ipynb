{
 "cells": [
  {
   "cell_type": "markdown",
   "metadata": {},
   "source": [
    "### Making Decisions with if statements\n",
    "code A\n",
    "if condition:\n",
    "    code B\n",
    "code C"
   ]
  },
  {
   "cell_type": "code",
   "execution_count": 1,
   "metadata": {},
   "outputs": [
    {
     "name": "stdout",
     "output_type": "stream",
     "text": [
      "Great! you earned more than you spent. Good job.\n"
     ]
    }
   ],
   "source": [
    "earned = int(input('How much money did you earn? '))\n",
    "spent = int(input('How much money did you spend? '))\n",
    "if earned > spent:\n",
    "    print('Great! you earned more than you spent. Good job.')"
   ]
  },
  {
   "cell_type": "code",
   "execution_count": 2,
   "metadata": {},
   "outputs": [
    {
     "name": "stdout",
     "output_type": "stream",
     "text": [
      "Wow, you broke even.\n"
     ]
    }
   ],
   "source": [
    "earned = int(input('How much money did you earn? '))\n",
    "spent = int(input('How much money did you spend? '))\n",
    "if earned > spent:\n",
    "    print('Great! you earned more than you spent. Good job.')\n",
    "if earned == spent:\n",
    "    print('Wow, you broke even.')\n",
    "if earned < spent:\n",
    "    print('You are in a deficit!')"
   ]
  },
  {
   "cell_type": "code",
   "execution_count": 3,
   "metadata": {},
   "outputs": [
    {
     "name": "stdout",
     "output_type": "stream",
     "text": [
      "You do not need to get a new passport for now\n"
     ]
    }
   ],
   "source": [
    "current_year = int(input('what year is it? '))\n",
    "received_year = int(input('What year did you get your passport? '))\n",
    "if received_year + 10 < current_year:\n",
    "    print('You should go get a new passport!')\n",
    "if received_year + 10 == current_year:\n",
    "    print('You should get a new passport sometime soon')\n",
    "if received_year + 10 > current_year:\n",
    "    print('You do not need to get a new passport for now')"
   ]
  },
  {
   "cell_type": "markdown",
   "metadata": {},
   "source": [
    "## Combine Boolean Expressions"
   ]
  },
  {
   "cell_type": "code",
   "execution_count": 5,
   "metadata": {},
   "outputs": [
    {
     "name": "stdout",
     "output_type": "stream",
     "text": [
      "You may drink\n"
     ]
    }
   ],
   "source": [
    "age = int(input('Enter age: '))\n",
    "if age > 21:\n",
    "    print('You may drink')"
   ]
  },
  {
   "cell_type": "code",
   "execution_count": 6,
   "metadata": {},
   "outputs": [
    {
     "name": "stdout",
     "output_type": "stream",
     "text": [
      "You can afford to pay for dinner\n"
     ]
    }
   ],
   "source": [
    "money = float(input('Money in account: '))\n",
    "if money > 1500.0:\n",
    "    print('You can afford to pay for dinner')"
   ]
  },
  {
   "cell_type": "code",
   "execution_count": 7,
   "metadata": {},
   "outputs": [
    {
     "name": "stdout",
     "output_type": "stream",
     "text": [
      "Failed\n"
     ]
    }
   ],
   "source": [
    "height = int(input(\"Height in inches: \"))\n",
    "if height >= 40:\n",
    "    if height <= 70:\n",
    "        print(\"You may ride\")\n",
    "else:\n",
    "    print(\"Failed\")"
   ]
  },
  {
   "cell_type": "code",
   "execution_count": 8,
   "metadata": {},
   "outputs": [
    {
     "name": "stdout",
     "output_type": "stream",
     "text": [
      "You may ride\n"
     ]
    }
   ],
   "source": [
    " height = int(input('Height in inches: '))\n",
    " if height >= 40 and height <= 70: \n",
    "     print('You may ride')\n",
    " if height < 40 or height > 70:\n",
    "     print('You may not ride')"
   ]
  },
  {
   "cell_type": "markdown",
   "metadata": {},
   "source": [
    "### If and Else"
   ]
  },
  {
   "cell_type": "code",
   "execution_count": 9,
   "metadata": {},
   "outputs": [
    {
     "name": "stdout",
     "output_type": "stream",
     "text": [
      "You did overspend :(\n"
     ]
    }
   ],
   "source": [
    "earned = int(input('How much money did you earn? '))\n",
    "spent = int(input('How much money did you spend? '))\n",
    "if earned >= spent:\n",
    "    print('You did not overspend :)')\n",
    "else:\n",
    "    print('You did overspend :(')"
   ]
  },
  {
   "cell_type": "code",
   "execution_count": 11,
   "metadata": {},
   "outputs": [
    {
     "name": "stdout",
     "output_type": "stream",
     "text": [
      "Sorry, your name is either\n",
      "  * Too long\n",
      "  * Not capitalized\n"
     ]
    }
   ],
   "source": [
    "# A program to check if a name is valid based on length and capitalization.\n",
    "\n",
    "name = input(\"What is your first name? \")\n",
    "\n",
    "if len(name) < 35 and name[0].isupper():\n",
    "    print(\"Thats a valid name\")\n",
    "else:\n",
    "    print(\"Sorry, your name is either\")\n",
    "    print(\"  * Too long\")\n",
    "    print(\"  * Not capitalized\")"
   ]
  },
  {
   "cell_type": "markdown",
   "metadata": {},
   "source": [
    "### Elif with If and Else"
   ]
  },
  {
   "cell_type": "code",
   "execution_count": 12,
   "metadata": {},
   "outputs": [
    {
     "name": "stdout",
     "output_type": "stream",
     "text": [
      "You should take Spanish 201\n"
     ]
    }
   ],
   "source": [
    "experience = input(\"What level of Spanish experience do you have? \")\n",
    "\n",
    "if experience == \"none\":\n",
    "    print(\"You should take Spanish 101\")\n",
    "elif experience == \"101\":\n",
    "    print(\"You should take Spanish 102\")\n",
    "elif experience == \"102\":\n",
    "    print(\"You should take Spanish 201\")\n",
    "elif experience == \"201\":\n",
    "    print(\"You should take Spanish 202\")\n",
    "elif experience == \"202\":\n",
    "    print(\"You should move on to more advanced classes!\")\n",
    "else:\n",
    "    print(\"Sorry, I didn't recognize what you entered.\")\n",
    "    print(\"Please give me one of these experience levels: none, 101, 102, 201, or 202.\")"
   ]
  },
  {
   "cell_type": "markdown",
   "metadata": {},
   "source": [
    "### Nesting If-Statements"
   ]
  },
  {
   "cell_type": "code",
   "execution_count": 13,
   "metadata": {},
   "outputs": [
    {
     "name": "stdout",
     "output_type": "stream",
     "text": [
      "Go to pizza hut\n"
     ]
    }
   ],
   "source": [
    "hungry = input(\"Are you hungry? \")\n",
    "if hungry == \"yes\":\n",
    "    sg = input(\"what do you want to eat? \")\n",
    "    if sg == \"pizza\":\n",
    "        print(\"Go to pizza hut\")\n",
    "    elif sg == \"burger\":\n",
    "        print(\"Go to MD\")\n",
    "    elif sg == \"salad\":\n",
    "        print(\"Make it at home\")\n",
    "    else:\n",
    "        print(\"unsure\")\n",
    "        "
   ]
  },
  {
   "cell_type": "code",
   "execution_count": 14,
   "metadata": {},
   "outputs": [
    {
     "name": "stdout",
     "output_type": "stream",
     "text": [
      "Else D\n"
     ]
    }
   ],
   "source": [
    "x = int(input(\"What is x? \"))\n",
    "y = int(input(\"What is y? \"))\n",
    "if x > y:\n",
    "    if y*2 == x:\n",
    "        if y < x-20:\n",
    "            if y == 100:\n",
    "                print(\"I reached this line!\")\n",
    "            else:\n",
    "                print(\"Else A\")\n",
    "        else:\n",
    "            print(\"Else B\")\n",
    "    else:\n",
    "        print(\"Else C\")\n",
    "else:\n",
    "    print(\"Else D\")"
   ]
  },
  {
   "cell_type": "markdown",
   "metadata": {},
   "source": [
    "# While Loops"
   ]
  },
  {
   "cell_type": "code",
   "execution_count": 15,
   "metadata": {},
   "outputs": [
    {
     "name": "stdout",
     "output_type": "stream",
     "text": [
      "The word in upper-case: KASSAYEB\n"
     ]
    }
   ],
   "source": [
    "word = input('Give me a word: ')\n",
    "upper_word = word.upper()\n",
    "print('The word in upper-case: ' + upper_word)"
   ]
  },
  {
   "cell_type": "code",
   "execution_count": 16,
   "metadata": {},
   "outputs": [
    {
     "name": "stdout",
     "output_type": "stream",
     "text": [
      "The word in upper case is: KASSAYEB\n",
      "The word in upper case is: BEKAYK\n",
      "The word in upper case is: KASSAYEB\n"
     ]
    }
   ],
   "source": [
    "repeat_count = 1\n",
    "while repeat_count <= 3:\n",
    "    repeat_count += 1\n",
    "    word = input(\"Give mea a word: \")\n",
    "    upper_word = word.upper()\n",
    "    print(\"The word in upper case is: \" + upper_word)"
   ]
  },
  {
   "cell_type": "markdown",
   "metadata": {},
   "source": [
    "# While Loop: Index-Variable Pattern"
   ]
  },
  {
   "cell_type": "code",
   "execution_count": 17,
   "metadata": {},
   "outputs": [
    {
     "name": "stdout",
     "output_type": "stream",
     "text": [
      "hi\n",
      "hi\n",
      "hi\n",
      "hi\n",
      "hi\n",
      "hi\n",
      "hi\n",
      "hi\n",
      "hi\n",
      "hi\n"
     ]
    }
   ],
   "source": [
    "index = 0          # PART 1: Declare an \"index\" variable\n",
    "while index < 10:  # PART 2: Compare index to a value in the condition\n",
    "    print(\"hi\")    # PART 3: The code to run (can be multiple lines)\n",
    "    index += 1     "
   ]
  },
  {
   "cell_type": "code",
   "execution_count": 30,
   "metadata": {},
   "outputs": [
    {
     "name": "stdout",
     "output_type": "stream",
     "text": [
      "The sum is: 500500\n"
     ]
    }
   ],
   "source": [
    "num_sum = 0\n",
    "index = 1\n",
    "while index <= 1000:\n",
    "    num_sum += index\n",
    "    index += 1\n",
    "print(\"The sum is:\", num_sum)"
   ]
  },
  {
   "cell_type": "code",
   "execution_count": 25,
   "metadata": {},
   "outputs": [
    {
     "name": "stdout",
     "output_type": "stream",
     "text": [
      "The sum is: 500500\n"
     ]
    }
   ],
   "source": [
    "number_sum = 0\n",
    "index = 1\n",
    "while index <= 1000:\n",
    "    number_sum += index\n",
    "    index += 1\n",
    "print(\"The sum is:\", number_sum)"
   ]
  },
  {
   "cell_type": "code",
   "execution_count": 38,
   "metadata": {},
   "outputs": [
    {
     "name": "stdout",
     "output_type": "stream",
     "text": [
      "         ##\n",
      "        ####\n",
      "       ######\n",
      "      ########\n",
      "     ##########\n",
      "    ############\n",
      "   ##############\n",
      "  ################\n",
      " ##################\n",
      "####################\n"
     ]
    }
   ],
   "source": [
    "pyramid_size = 10\n",
    "i = 1\n",
    "while i <= pyramid_size:\n",
    "    sp = pyramid_size - i\n",
    "    print(\" \" *sp + \"#\" * 2*i)\n",
    "    i += 1"
   ]
  },
  {
   "cell_type": "code",
   "execution_count": 39,
   "metadata": {},
   "outputs": [
    {
     "name": "stdout",
     "output_type": "stream",
     "text": [
      "         ##\n",
      "        ####\n",
      "       ######\n",
      "      ########\n",
      "     ##########\n",
      "    ############\n",
      "   ##############\n",
      "  ################\n",
      " ##################\n",
      "####################\n"
     ]
    }
   ],
   "source": [
    "pyramid_size = int(input(\"Give me a Pyramid size: \"))\n",
    "i = 1\n",
    "while i <= pyramid_size:\n",
    "    spacing = pyramid_size - i\n",
    "    print(\" \" * spacing + \"#\" * (i*2))\n",
    "    i += 1"
   ]
  },
  {
   "cell_type": "code",
   "execution_count": 44,
   "metadata": {},
   "outputs": [
    {
     "name": "stdout",
     "output_type": "stream",
     "text": [
      "hi\n",
      "hi\n",
      "hi\n",
      "hi\n",
      "hi\n",
      "hi\n",
      "hi\n",
      "hi\n",
      "hi\n",
      "hi\n",
      "hi\n",
      "hi\n",
      "hi\n",
      "hi\n",
      "hi\n",
      "hi\n",
      "hi\n",
      "hi\n",
      "hi\n",
      "hi\n",
      "done\n"
     ]
    }
   ],
   "source": [
    "i = 0\n",
    "while i < 10:\n",
    "       j = 0\n",
    "       while j < 2:\n",
    "           print(\"hi\")\n",
    "           j += 1\n",
    "       i += 1\n",
    "print(\"done\")"
   ]
  },
  {
   "cell_type": "code",
   "execution_count": 48,
   "metadata": {},
   "outputs": [
    {
     "name": "stdout",
     "output_type": "stream",
     "text": [
      "There once"
     ]
    }
   ],
   "source": [
    "sentence = 'There once lived a bee in a house by the sea.'\n",
    "index = 0\n",
    "while index < 10:\n",
    "    print(sentence[index], end='')\n",
    "    index += 1"
   ]
  },
  {
   "cell_type": "code",
   "execution_count": 49,
   "metadata": {},
   "outputs": [
    {
     "name": "stdout",
     "output_type": "stream",
     "text": [
      "There once\n",
      "here once \n",
      "ere once l\n",
      "re once li\n",
      "e once liv\n",
      " once live\n",
      "once lived\n",
      "nce lived \n",
      "ce lived a\n",
      "e lived a \n",
      " lived a b\n",
      "lived a be\n",
      "ived a bee\n",
      "ved a bee \n",
      "ed a bee i\n",
      "d a bee in\n",
      " a bee in \n",
      "a bee in a\n",
      " bee in a \n",
      "bee in a h\n",
      "ee in a ho\n",
      "e in a hou\n",
      " in a hous\n",
      "in a house\n",
      "n a house \n",
      " a house b\n",
      "a house by\n",
      " house by \n",
      "house by t\n",
      "ouse by th\n",
      "use by the\n",
      "se by the \n",
      "e by the s\n",
      " by the se\n",
      "by the sea\n"
     ]
    }
   ],
   "source": [
    "sentence = 'There once lived a bee in a house by the sea.'\n",
    "position = 0\n",
    "while position < len(sentence)-10:\n",
    "    index = position\n",
    "    while index < position+10:\n",
    "        print(sentence[index], end='')\n",
    "        index += 1\n",
    "    print()\n",
    "    position += 1"
   ]
  },
  {
   "cell_type": "markdown",
   "metadata": {},
   "source": [
    "# For Loops"
   ]
  },
  {
   "cell_type": "code",
   "execution_count": 50,
   "metadata": {},
   "outputs": [
    {
     "name": "stdout",
     "output_type": "stream",
     "text": [
      "Here's the first and last letter: kn\n"
     ]
    }
   ],
   "source": [
    "word = input('Give me a word: ')\n",
    "first_last = word[0] + word[-1]\n",
    "print(\"Here\\'s the first and last letter: \" + first_last)"
   ]
  },
  {
   "cell_type": "code",
   "execution_count": 51,
   "metadata": {},
   "outputs": [
    {
     "name": "stdout",
     "output_type": "stream",
     "text": [
      "before\n",
      "hi\n",
      "i variable is: 1\n",
      "hi\n",
      "i variable is: 2\n",
      "hi\n",
      "i variable is: 3\n",
      "hi\n",
      "i variable is: 4\n",
      "after\n"
     ]
    }
   ],
   "source": [
    "print('before')     \n",
    "for i in range(1,5):    \n",
    "    print('hi')   \n",
    "    print('i variable is: ' + str(i))\n",
    "print('after')"
   ]
  },
  {
   "cell_type": "code",
   "execution_count": 52,
   "metadata": {},
   "outputs": [
    {
     "name": "stdout",
     "output_type": "stream",
     "text": [
      "Here's the first and last letter: kb\n",
      "Here's the first and last letter: ka\n",
      "Here's the first and last letter: kl\n",
      "Here's the first and last letter: ku\n"
     ]
    }
   ],
   "source": [
    "for count in range(0,4):\n",
    "    word = input(\"Give me a word: \")\n",
    "    first_last = word[0]+word[-1]\n",
    "    print(\"Here's the first and last letter: \" + first_last)"
   ]
  },
  {
   "cell_type": "markdown",
   "metadata": {},
   "source": [
    "# Combining If-Statements and Loops"
   ]
  },
  {
   "cell_type": "code",
   "execution_count": 1,
   "metadata": {},
   "outputs": [
    {
     "name": "stdout",
     "output_type": "stream",
     "text": [
      "Number of upper-case letters: 2\n",
      "Number of lower-case letters: 6\n"
     ]
    }
   ],
   "source": [
    "text = input(\"Type some txt and then press ENTER: \")\n",
    "uppercase_count = 0\n",
    "lowercase_count = 0\n",
    "for i in range(0, len(text)):\n",
    "    char = text[i]\n",
    "    if char.isupper():\n",
    "        uppercase_count += 1\n",
    "    elif char.islower():\n",
    "        lowercase_count += 1\n",
    "print(\"Number of upper-case letters:\", uppercase_count)\n",
    "print(\"Number of lower-case letters:\", lowercase_count)\n"
   ]
  },
  {
   "cell_type": "code",
   "execution_count": 6,
   "metadata": {},
   "outputs": [
    {
     "name": "stdout",
     "output_type": "stream",
     "text": [
      "14 is divided by 7\n",
      "21 is divided by 7\n",
      "28 is divided by 7\n",
      "35 is divided by 7\n"
     ]
    }
   ],
   "source": [
    "start = int(input('What value should we start at? '))\n",
    "end = int(input('What value should we end at? '))\n",
    "number = start\n",
    "while number <= end:\n",
    "    if number % 7 == 0: \n",
    "        print(number, \"is divided by\", 7) \n",
    "    number += 1 "
   ]
  },
  {
   "cell_type": "markdown",
   "metadata": {},
   "source": [
    "# Finances Visualizer"
   ]
  },
  {
   "cell_type": "code",
   "execution_count": null,
   "metadata": {},
   "outputs": [],
   "source": [
    "print(\"--------------------------------\")\n",
    "print(\"----- FINANCIAL VISUALIZER -----\")\n",
    "print(\"--------------------------------\")\n",
    "housing = int(input(\"Enter housing cost: \"))\n",
    "print(\"----------------------------------------------------------\")\n",
    "\n"
   ]
  },
  {
   "cell_type": "code",
   "execution_count": 9,
   "metadata": {},
   "outputs": [
    {
     "name": "stdout",
     "output_type": "stream",
     "text": [
      "########################\n"
     ]
    }
   ],
   "source": [
    "print(\"#\"*int(100*.24))\n"
   ]
  },
  {
   "cell_type": "code",
   "execution_count": 36,
   "metadata": {},
   "outputs": [
    {
     "name": "stdout",
     "output_type": "stream",
     "text": [
      "--------------------------------\n",
      "----- FINANCIAL VISUALIZER -----\n",
      "--------------------------------\n",
      "Annual Salary:  \n",
      " 50000\n",
      "Monthly Housing:  \n",
      " 1000\n",
      "Monthly Bills:  \n",
      " 400\n",
      "Weekly Food:  \n",
      " 200\n",
      "Annual Travel:  \n",
      " 2500\n"
     ]
    }
   ],
   "source": [
    "print(\"--------------------------------\")\n",
    "print(\"----- FINANCIAL VISUALIZER -----\")\n",
    "print(\"--------------------------------\")\n",
    "salary = int(input(\"Annual Salary: \"))\n",
    "housing = int(input(\"Monthly Housing: \"))\n",
    "bills = int(input(\"Monthly Bills: \"))\n",
    "food = int(input(\"Weekly Food: \"))\n",
    "travel = int(input(\"Annual Travel: \"))\n",
    "print(\"Annual Salary: \", \"\\n\",  salary)\n",
    "print(\"Monthly Housing: \", \"\\n\",  housing)\n",
    "print(\"Monthly Bills: \", \"\\n\",  bills)\n",
    "print(\"Weekly Food: \", \"\\n\",  food)\n",
    "print(\"Annual Travel: \", \"\\n\",  travel)"
   ]
  },
  {
   "cell_type": "code",
   "execution_count": 37,
   "metadata": {},
   "outputs": [
    {
     "data": {
      "text/plain": [
       "int"
      ]
     },
     "execution_count": 37,
     "metadata": {},
     "output_type": "execute_result"
    }
   ],
   "source": [
    "type(salary)"
   ]
  },
  {
   "cell_type": "code",
   "execution_count": 22,
   "metadata": {},
   "outputs": [
    {
     "name": "stdout",
     "output_type": "stream",
     "text": [
      "----------------------------------------------------------\n",
      "housing | $ 120.0 | 24.0% | ############################\n",
      "bills | $ 48.0 | 9.6% | ####\n",
      "food | $ 104.0 | 20.8% | #####################\n",
      "travel | $ 25.0 | 5.0% | ############\n",
      "tax | $ 100.0 | 20.0% | ####################\n",
      "extra | $ 103.0 | 20.6% | #####################\n",
      "----------------------------------------------------------\n"
     ]
    }
   ],
   "source": [
    "print(\"----------------------------------------------------------\")\n",
    "print(\"housing\", \"|\", \"$\",float(housing), \"|\", str(\"24.0%\"), \"|\", \"#\"*int(housing*.24))\n",
    "print(\"bills\", \"|\", \"$\",float(bills), \"|\", str(\"9.6%\"), \"|\", \"#\"*int(bills*.096))\n",
    "print(\"food\", \"|\", \"$\",float(food), \"|\", str(\"20.8%\"), \"|\", \"#\"*int(food*.208))\n",
    "print(\"travel\", \"|\", \"$\",float(travel), \"|\", str(\"5.0%\"), \"|\", \"#\"*int(travel*.5))\n",
    "#print(\"tax\", \"|\", \"$\",float(tax), \"|\", str(\"20.0%\"), \"|\", \"#\"*int(tax*0.2))\n",
    "#print(\"extra\", \"|\", \"$\",float(extra), \"|\", str(\"20.6%\"), \"|\", \"#\"*int(extra*.206))\n",
    "print(\"----------------------------------------------------------\")"
   ]
  },
  {
   "cell_type": "code",
   "execution_count": 29,
   "metadata": {},
   "outputs": [
    {
     "name": "stdout",
     "output_type": "stream",
     "text": [
      "Annual Salary:  \n",
      " 60\n"
     ]
    }
   ],
   "source": [
    "salary = input(\"Annual Salary: \")\n",
    "print(\"Annual Salary: \", \"\\n\",  salary)"
   ]
  },
  {
   "cell_type": "code",
   "execution_count": 38,
   "metadata": {},
   "outputs": [
    {
     "name": "stdout",
     "output_type": "stream",
     "text": [
      "--------------------------------\n",
      "----- FINANCIAL VISUALIZER -----\n",
      "--------------------------------\n",
      "All inputs confirmed valid.\n",
      "\n",
      "--------------------------------------------------------------------------------------------------------------------------------------------------------------------------------------------------------------------------------------------------------------------------------------------------------------------------------------------------------------------------------------------------------------------------------------------------------------------------------------------------------------------------------------------------------------------------------------------------------------------------------------------------------------------------------------------------------------------------------------------------------------------------------------------------------------------------------------------------------------------------------------------------------------------------------------------------------------\n",
      "housing | $  57,600.00 |  96.0% | ################################################################################################\n",
      "  bills | $ 124,800.00 | 208.0% | ################################################################################################################################################################################################################\n",
      "   food | $ 535,600.00 | 892.7% | ############################################################################################################################################################################################################################################################################################################################################################################################################################################################################################################################################################################################################################################################################################################################################################################################################################################################################################################################\n",
      " travel | $   2,500.00 |   4.2% | ####\n",
      "    tax | $   9,000.00 |  15.0% | ###############\n",
      "  extra | $-669,500.00 | -1,115.8% | \n",
      "--------------------------------------------------------------------------------------------------------------------------------------------------------------------------------------------------------------------------------------------------------------------------------------------------------------------------------------------------------------------------------------------------------------------------------------------------------------------------------------------------------------------------------------------------------------------------------------------------------------------------------------------------------------------------------------------------------------------------------------------------------------------------------------------------------------------------------------------------------------------------------------------------------------------------------------------------------------\n"
     ]
    }
   ],
   "source": [
    "#\n",
    "# Solution for Pyflo Guided Project 2 - Financial Visualizer\n",
    "#\n",
    "\n",
    "# Get the 5 input values from the user\n",
    "print('--------------------------------')\n",
    "print('----- FINANCIAL VISUALIZER -----')\n",
    "print('--------------------------------')\n",
    "salary = input('Annual Salary:\\n')\n",
    "housing = input('Monthly Housing:\\n')\n",
    "bills = input('Monthly Bills:\\n')\n",
    "food = input('Weekly Food:\\n')\n",
    "travel = input('Annual Travel:\\n')\n",
    "\n",
    "# Check if the 5 input values can be converted to a floating-point number\n",
    "# If so, convert them\n",
    "def isinvalid(x):\n",
    "    for i in x:\n",
    "        if i.isnumeric() == False and i != '.':\n",
    "            return True\n",
    "    return False\n",
    "\n",
    "if isinvalid(salary) or isinvalid(housing) or isinvalid(bills) or isinvalid(food) or isinvalid(travel):\n",
    "    print('Invalid input, please try again.')\n",
    "else:\n",
    "    print('All inputs confirmed valid.')\n",
    "salary  = float(salary)\n",
    "housing = float(housing)\n",
    "bills   = float(bills)\n",
    "food    = float(food)\n",
    "travel  = float(travel)\n",
    "\n",
    "# Compute the annual tax\n",
    "annual_tax = 0\n",
    "if salary <= 10000:\n",
    "    annual_tax = round(salary * 0.05, 2)\n",
    "elif salary <= 40000:\n",
    "    annual_tax = round(salary * 0.1, 2)\n",
    "elif salary <= 80000:\n",
    "    annual_tax = round(salary * 0.15, 2)\n",
    "else:\n",
    "    annual_tax = round(salary * 0.20, 2)\n",
    "\n",
    "# Calculate the annual dollar amounts and the annual percentages\n",
    "annual_housing = housing * 12\n",
    "annual_bills = bills * 12\n",
    "annual_food = food * 52\n",
    "annual_travel = travel\n",
    "annual_extra = salary - annual_housing - annual_bills - annual_food - annual_travel - annual_tax\n",
    "percentage_tax = round((annual_tax / salary) * 100, 1)\n",
    "percentage_housing = round((annual_housing / salary) * 100, 1)\n",
    "percentage_bills = round((annual_bills / salary) * 100, 1)\n",
    "percentage_food = round((annual_food / salary) * 100, 1)\n",
    "percentage_travel = round((annual_travel / salary) * 100, 1)\n",
    "percentage_extra = round((annual_extra / salary) * 100, 1)\n",
    "\n",
    "# Display the grid with financial information and bar chart\n",
    "width = int(max(percentage_tax, percentage_housing, percentage_bills, percentage_food, percentage_travel, percentage_extra))\n",
    "boundary = '----------------------------------' + ('-' * width)\n",
    "print()\n",
    "print(boundary)\n",
    "print('housing | $' + format(annual_housing, '11,.2f') + ' ', end='')\n",
    "print('| ' + format(percentage_housing, '5,.1f') + '% | ' + ('#' * int(percentage_housing)))\n",
    "print('  bills | $' + format(annual_bills, '11,.2f') + ' ', end='')\n",
    "print('| ' + format(percentage_bills, '5,.1f') + '% | ' + ('#' * int(percentage_bills)))\n",
    "print('   food | $' + format(annual_food, '11,.2f') + ' ', end='')\n",
    "print('| ' + format(percentage_food, '5,.1f') + '% | ' + ('#' * int(percentage_food)))\n",
    "print(' travel | $' + format(annual_travel, '11,.2f') + ' ', end='')\n",
    "print('| ' + format(percentage_travel, '5,.1f') + '% | ' + ('#' * int(percentage_travel)))\n",
    "print('    tax | $' + format(annual_tax, '11,.2f') + ' ', end='')\n",
    "print('| ' + format(percentage_tax, '5,.1f') + '% | ' + ('#' * int(percentage_tax)))\n",
    "print('  extra | $' + format(annual_extra, '11,.2f') + ' ', end='')\n",
    "print('| ' + format(percentage_extra, '5,.1f') + '% | ' + ('#' * int(percentage_extra)))\n",
    "print(boundary)"
   ]
  },
  {
   "cell_type": "markdown",
   "metadata": {},
   "source": [
    "# Iterate Through Strings"
   ]
  },
  {
   "cell_type": "code",
   "execution_count": 41,
   "metadata": {},
   "outputs": [
    {
     "name": "stdout",
     "output_type": "stream",
     "text": [
      "T\n",
      "h\n",
      "e\n",
      " \n",
      "b\n",
      "i\n",
      "g\n",
      " \n",
      "b\n",
      "r\n",
      "o\n",
      "w\n",
      "n\n",
      " \n",
      "f\n",
      "o\n",
      "x\n"
     ]
    }
   ],
   "source": [
    "string = 'The big brown fox'\n",
    "i = 0\n",
    "while i < len(string):\n",
    "    print(string[i])\n",
    "    i += 1"
   ]
  },
  {
   "cell_type": "code",
   "execution_count": 43,
   "metadata": {},
   "outputs": [
    {
     "name": "stdout",
     "output_type": "stream",
     "text": [
      "T\n",
      "h\n",
      "e\n",
      " \n",
      "b\n",
      "i\n",
      "g\n",
      " \n",
      "b\n",
      "r\n",
      "o\n",
      "w\n",
      "n\n",
      " \n",
      "f\n",
      "o\n",
      "x\n"
     ]
    }
   ],
   "source": [
    "string = 'The big brown fox'\n",
    "for i in range(0, len(string)):\n",
    "    print(string[i])"
   ]
  },
  {
   "cell_type": "code",
   "execution_count": 44,
   "metadata": {},
   "outputs": [
    {
     "name": "stdout",
     "output_type": "stream",
     "text": [
      "T\n",
      "h\n",
      "e\n",
      " \n",
      "b\n",
      "i\n",
      "g\n",
      " \n",
      "b\n",
      "r\n",
      "o\n",
      "w\n",
      "n\n",
      " \n",
      "f\n",
      "o\n",
      "x\n"
     ]
    }
   ],
   "source": [
    "string = 'The big brown fox'\n",
    "for char in string:\n",
    "    print(char)"
   ]
  },
  {
   "cell_type": "code",
   "execution_count": 45,
   "metadata": {},
   "outputs": [
    {
     "name": "stdout",
     "output_type": "stream",
     "text": [
      "Invalid phone number!\n"
     ]
    }
   ],
   "source": [
    "phone = input('Enter your phone number: ')\n",
    "if len(phone) != 11:\n",
    "    print('Invalid phone number!')"
   ]
  },
  {
   "cell_type": "code",
   "execution_count": 46,
   "metadata": {},
   "outputs": [
    {
     "name": "stdout",
     "output_type": "stream",
     "text": [
      "Invalid phone number!\n"
     ]
    }
   ],
   "source": [
    "if phone[3] != '-' or phone[7] != '-':\n",
    "    print('Invalid phone number!')"
   ]
  },
  {
   "cell_type": "code",
   "execution_count": 47,
   "metadata": {},
   "outputs": [
    {
     "ename": "IndexError",
     "evalue": "string index out of range",
     "output_type": "error",
     "traceback": [
      "\u001b[0;31m---------------------------------------------------------------------------\u001b[0m",
      "\u001b[0;31mIndexError\u001b[0m                                Traceback (most recent call last)",
      "\u001b[0;32m/var/folders/76/xs74b8wd5y1d4jslcyz534sh0000gn/T/ipykernel_1156/1256849219.py\u001b[0m in \u001b[0;36m<module>\u001b[0;34m\u001b[0m\n\u001b[0;32m----> 1\u001b[0;31m \u001b[0;32mif\u001b[0m \u001b[0mphone\u001b[0m\u001b[0;34m[\u001b[0m\u001b[0;36m0\u001b[0m\u001b[0;34m]\u001b[0m\u001b[0;34m.\u001b[0m\u001b[0misdigit\u001b[0m\u001b[0;34m(\u001b[0m\u001b[0;34m)\u001b[0m \u001b[0;34m==\u001b[0m \u001b[0;32mFalse\u001b[0m \u001b[0;32mor\u001b[0m \u001b[0mphone\u001b[0m\u001b[0;34m[\u001b[0m\u001b[0;36m1\u001b[0m\u001b[0;34m]\u001b[0m\u001b[0;34m.\u001b[0m\u001b[0misdigit\u001b[0m\u001b[0;34m(\u001b[0m\u001b[0;34m)\u001b[0m \u001b[0;34m==\u001b[0m \u001b[0;32mFalse\u001b[0m \u001b[0;32mor\u001b[0m \u001b[0mphone\u001b[0m\u001b[0;34m[\u001b[0m\u001b[0;36m2\u001b[0m\u001b[0;34m]\u001b[0m\u001b[0;34m.\u001b[0m\u001b[0misdigit\u001b[0m\u001b[0;34m(\u001b[0m\u001b[0;34m)\u001b[0m \u001b[0;34m==\u001b[0m \u001b[0;32mFalse\u001b[0m \u001b[0;32mor\u001b[0m \u001b[0mphone\u001b[0m\u001b[0;34m[\u001b[0m\u001b[0;36m4\u001b[0m\u001b[0;34m]\u001b[0m\u001b[0;34m.\u001b[0m\u001b[0misdigit\u001b[0m\u001b[0;34m(\u001b[0m\u001b[0;34m)\u001b[0m \u001b[0;34m==\u001b[0m \u001b[0;32mFalse\u001b[0m \u001b[0;32mor\u001b[0m \u001b[0mphone\u001b[0m\u001b[0;34m[\u001b[0m\u001b[0;36m5\u001b[0m\u001b[0;34m]\u001b[0m\u001b[0;34m.\u001b[0m\u001b[0misdigit\u001b[0m\u001b[0;34m(\u001b[0m\u001b[0;34m)\u001b[0m \u001b[0;34m==\u001b[0m \u001b[0;32mFalse\u001b[0m \u001b[0;32mor\u001b[0m \u001b[0mphone\u001b[0m\u001b[0;34m[\u001b[0m\u001b[0;36m6\u001b[0m\u001b[0;34m]\u001b[0m\u001b[0;34m.\u001b[0m\u001b[0misdigit\u001b[0m\u001b[0;34m(\u001b[0m\u001b[0;34m)\u001b[0m \u001b[0;34m==\u001b[0m \u001b[0;32mFalse\u001b[0m \u001b[0;32mor\u001b[0m \u001b[0mphone\u001b[0m\u001b[0;34m[\u001b[0m\u001b[0;36m8\u001b[0m\u001b[0;34m]\u001b[0m\u001b[0;34m.\u001b[0m\u001b[0misdigit\u001b[0m\u001b[0;34m(\u001b[0m\u001b[0;34m)\u001b[0m \u001b[0;34m==\u001b[0m \u001b[0;32mFalse\u001b[0m \u001b[0;32mor\u001b[0m \u001b[0mphone\u001b[0m\u001b[0;34m[\u001b[0m\u001b[0;36m9\u001b[0m\u001b[0;34m]\u001b[0m\u001b[0;34m.\u001b[0m\u001b[0misdigit\u001b[0m\u001b[0;34m(\u001b[0m\u001b[0;34m)\u001b[0m \u001b[0;34m==\u001b[0m \u001b[0;32mFalse\u001b[0m \u001b[0;32mor\u001b[0m \u001b[0mphone\u001b[0m\u001b[0;34m[\u001b[0m\u001b[0;36m10\u001b[0m\u001b[0;34m]\u001b[0m\u001b[0;34m.\u001b[0m\u001b[0misdigit\u001b[0m\u001b[0;34m(\u001b[0m\u001b[0;34m)\u001b[0m \u001b[0;34m==\u001b[0m \u001b[0;32mFalse\u001b[0m \u001b[0;32mor\u001b[0m \u001b[0mphone\u001b[0m\u001b[0;34m[\u001b[0m\u001b[0;36m11\u001b[0m\u001b[0;34m]\u001b[0m\u001b[0;34m.\u001b[0m\u001b[0misdigit\u001b[0m\u001b[0;34m(\u001b[0m\u001b[0;34m)\u001b[0m \u001b[0;34m==\u001b[0m \u001b[0;32mFalse\u001b[0m\u001b[0;34m:\u001b[0m\u001b[0;34m\u001b[0m\u001b[0;34m\u001b[0m\u001b[0m\n\u001b[0m\u001b[1;32m      2\u001b[0m     \u001b[0mprint\u001b[0m\u001b[0;34m(\u001b[0m\u001b[0;34m'Invalid phone number!'\u001b[0m\u001b[0;34m)\u001b[0m\u001b[0;34m\u001b[0m\u001b[0;34m\u001b[0m\u001b[0m\n",
      "\u001b[0;31mIndexError\u001b[0m: string index out of range"
     ]
    }
   ],
   "source": [
    "if phone[0].isdigit() == False or phone[1].isdigit() == False or phone[2].isdigit() == False or phone[4].isdigit() == False or phone[5].isdigit() == False or phone[6].isdigit() == False or phone[8].isdigit() == False or phone[9].isdigit() == False or phone[10].isdigit() == False or phone[11].isdigit() == False: \n",
    "    print('Invalid phone number!')"
   ]
  },
  {
   "cell_type": "code",
   "execution_count": 49,
   "metadata": {},
   "outputs": [
    {
     "name": "stdout",
     "output_type": "stream",
     "text": [
      "Invalid phone number!\n"
     ]
    }
   ],
   "source": [
    "phone = input('Enter your phone number: ')\n",
    "for i in range(0, 11):\n",
    "    if i != 3 and i != 6 and phone[i].isdigit() == False:\n",
    "        print('Invalid phone number!')"
   ]
  },
  {
   "cell_type": "code",
   "execution_count": 50,
   "metadata": {},
   "outputs": [
    {
     "name": "stdout",
     "output_type": "stream",
     "text": [
      "Invalid phone number!\n"
     ]
    }
   ],
   "source": [
    "phone = input('Enter your phone number: ')\n",
    "\n",
    "# Check to ensire that what the user gave us is 11 characters\n",
    "if len(phone) != 11:\n",
    "    print('Invalid phone number!')\n",
    "\n",
    "# Ensure that the dashes are in the correct locations\n",
    "if phone[3] != '-' or phone[7] != '-':\n",
    "    print('Invalid phone number!')\n",
    "\n",
    "# Ensure every other character is a digit\n",
    "for i in range(0, 11):\n",
    "    if i != 3 and i != 6 and phone[i].isdigit() == False:\n",
    "        print('Invalid phone number!')"
   ]
  },
  {
   "cell_type": "code",
   "execution_count": 51,
   "metadata": {},
   "outputs": [
    {
     "name": "stdout",
     "output_type": "stream",
     "text": [
      "Invalid phone number!\n",
      "Valid phone number!\n"
     ]
    },
    {
     "ename": "",
     "evalue": "",
     "output_type": "error",
     "traceback": [
      "\u001b[1;31mThe Kernel crashed while executing code in the current cell or a previous cell. \n",
      "\u001b[1;31mPlease review the code in the cell(s) to identify a possible cause of the failure. \n",
      "\u001b[1;31mClick <a href='https://aka.ms/vscodeJupyterKernelCrash'>here</a> for more info. \n",
      "\u001b[1;31mView Jupyter <a href='command:jupyter.viewOutput'>log</a> for further details."
     ]
    }
   ],
   "source": [
    "phone = input('Enter your phone number: ')\n",
    "\n",
    "# Check to ensire that what the user gave us is 11 characters\n",
    "if len(phone) != 11:\n",
    "    print('Invalid phone number!')\n",
    "    exit()\n",
    "\n",
    "# Ensure that the dashes are in the correct locations\n",
    "if phone[3] != '-' or phone[7] != '-':\n",
    "    print('Invalid phone number!')\n",
    "    exit()\n",
    "\n",
    "# Ensure every other character is a digit\n",
    "for i in range(0, 11):\n",
    "    if i != 3 and i != 6 and phone[i].isdigit() == False:\n",
    "        print('Invalid phone number!')\n",
    "        exit()\n",
    "\n",
    "print('Valid phone number!')"
   ]
  },
  {
   "cell_type": "markdown",
   "metadata": {},
   "source": [
    "# Functions"
   ]
  },
  {
   "cell_type": "code",
   "execution_count": 1,
   "metadata": {},
   "outputs": [],
   "source": [
    "def print_welcome():\n",
    "    print(\"Welcome to the program\")\n",
    "    print(\"I hope you enjoy it\")"
   ]
  },
  {
   "cell_type": "code",
   "execution_count": 2,
   "metadata": {},
   "outputs": [
    {
     "name": "stdout",
     "output_type": "stream",
     "text": [
      "Welcome to the program\n",
      "I hope you enjoy it\n"
     ]
    }
   ],
   "source": [
    "print_welcome()"
   ]
  },
  {
   "cell_type": "code",
   "execution_count": 3,
   "metadata": {},
   "outputs": [
    {
     "name": "stdout",
     "output_type": "stream",
     "text": [
      "Welcome to the program\n",
      "I hope you enjoy it\n",
      "Welcome to the program\n",
      "I hope you enjoy it\n",
      "Welcome to the program\n",
      "I hope you enjoy it\n",
      "Welcome to the program\n",
      "I hope you enjoy it\n",
      "Welcome to the program\n",
      "I hope you enjoy it\n",
      "Welcome to the program\n",
      "I hope you enjoy it\n",
      "Welcome to the program\n",
      "I hope you enjoy it\n",
      "Welcome to the program\n",
      "I hope you enjoy it\n",
      "Welcome to the program\n",
      "I hope you enjoy it\n",
      "Welcome to the program\n",
      "I hope you enjoy it\n"
     ]
    }
   ],
   "source": [
    "for i in range(0,10):\n",
    "    print_welcome()"
   ]
  },
  {
   "cell_type": "code",
   "execution_count": 4,
   "metadata": {},
   "outputs": [],
   "source": [
    "def determine_golf_performance():\n",
    "    par = int(input('What par was the hole?\\n'))\n",
    "    strokes = int(input('How many strokes did you use?\\n'))\n",
    "             \n",
    "    if par-3 == strokes:\n",
    "        print('Albatross')\n",
    "    elif par-2 == strokes:\n",
    "        print('Eagle')\n",
    "    elif par-1 == strokes:\n",
    "        print('Birdie')\n",
    "    elif par == strokes:\n",
    "        print('Par')\n",
    "    elif par+1 == strokes:\n",
    "        print('Bogey')\n",
    "    elif par+2 == strokes:\n",
    "        print('Double Bogey')\n",
    "    elif par+3 == strokes:\n",
    "        print('Triple Bogey')\n",
    "    else:    \n",
    "        print('I don\\'t know? Please try again.')"
   ]
  },
  {
   "cell_type": "code",
   "execution_count": 6,
   "metadata": {},
   "outputs": [
    {
     "name": "stdout",
     "output_type": "stream",
     "text": [
      "Double Bogey\n"
     ]
    }
   ],
   "source": [
    "determine_golf_performance()"
   ]
  },
  {
   "cell_type": "code",
   "execution_count": 7,
   "metadata": {},
   "outputs": [
    {
     "name": "stdout",
     "output_type": "stream",
     "text": [
      ">> Use this tool to give you feedback on how you golfed\n",
      ">> Hole 1 performance\n",
      "Par\n",
      ">> Hole 2 performance\n",
      "I don't know? Please try again.\n",
      ">> Hole 3 performance\n",
      "Triple Bogey\n",
      ">> Hole 4 performance\n"
     ]
    },
    {
     "ename": "KeyboardInterrupt",
     "evalue": "Interrupted by user",
     "output_type": "error",
     "traceback": [
      "\u001b[0;31m---------------------------------------------------------------------------\u001b[0m",
      "\u001b[0;31mKeyboardInterrupt\u001b[0m                         Traceback (most recent call last)",
      "\u001b[0;32m/var/folders/76/xs74b8wd5y1d4jslcyz534sh0000gn/T/ipykernel_1030/1109332737.py\u001b[0m in \u001b[0;36m<module>\u001b[0;34m\u001b[0m\n\u001b[1;32m      3\u001b[0m \u001b[0;32mwhile\u001b[0m \u001b[0mhole\u001b[0m \u001b[0;34m<=\u001b[0m \u001b[0;36m18\u001b[0m\u001b[0;34m:\u001b[0m\u001b[0;34m\u001b[0m\u001b[0;34m\u001b[0m\u001b[0m\n\u001b[1;32m      4\u001b[0m     \u001b[0mprint\u001b[0m\u001b[0;34m(\u001b[0m\u001b[0;34m\">> Hole\"\u001b[0m\u001b[0;34m,\u001b[0m \u001b[0mhole\u001b[0m\u001b[0;34m,\u001b[0m \u001b[0;34m\"performance\"\u001b[0m\u001b[0;34m)\u001b[0m\u001b[0;34m\u001b[0m\u001b[0;34m\u001b[0m\u001b[0m\n\u001b[0;32m----> 5\u001b[0;31m     \u001b[0mdetermine_golf_performance\u001b[0m\u001b[0;34m(\u001b[0m\u001b[0;34m)\u001b[0m\u001b[0;34m\u001b[0m\u001b[0;34m\u001b[0m\u001b[0m\n\u001b[0m\u001b[1;32m      6\u001b[0m     \u001b[0mhole\u001b[0m \u001b[0;34m+=\u001b[0m \u001b[0;36m1\u001b[0m\u001b[0;34m\u001b[0m\u001b[0;34m\u001b[0m\u001b[0m\n",
      "\u001b[0;32m/var/folders/76/xs74b8wd5y1d4jslcyz534sh0000gn/T/ipykernel_1030/278762684.py\u001b[0m in \u001b[0;36mdetermine_golf_performance\u001b[0;34m()\u001b[0m\n\u001b[1;32m      1\u001b[0m \u001b[0;32mdef\u001b[0m \u001b[0mdetermine_golf_performance\u001b[0m\u001b[0;34m(\u001b[0m\u001b[0;34m)\u001b[0m\u001b[0;34m:\u001b[0m\u001b[0;34m\u001b[0m\u001b[0;34m\u001b[0m\u001b[0m\n\u001b[0;32m----> 2\u001b[0;31m     \u001b[0mpar\u001b[0m \u001b[0;34m=\u001b[0m \u001b[0mint\u001b[0m\u001b[0;34m(\u001b[0m\u001b[0minput\u001b[0m\u001b[0;34m(\u001b[0m\u001b[0;34m'What par was the hole?\\n'\u001b[0m\u001b[0;34m)\u001b[0m\u001b[0;34m)\u001b[0m\u001b[0;34m\u001b[0m\u001b[0;34m\u001b[0m\u001b[0m\n\u001b[0m\u001b[1;32m      3\u001b[0m     \u001b[0mstrokes\u001b[0m \u001b[0;34m=\u001b[0m \u001b[0mint\u001b[0m\u001b[0;34m(\u001b[0m\u001b[0minput\u001b[0m\u001b[0;34m(\u001b[0m\u001b[0;34m'How many strokes did you use?\\n'\u001b[0m\u001b[0;34m)\u001b[0m\u001b[0;34m)\u001b[0m\u001b[0;34m\u001b[0m\u001b[0;34m\u001b[0m\u001b[0m\n\u001b[1;32m      4\u001b[0m \u001b[0;34m\u001b[0m\u001b[0m\n\u001b[1;32m      5\u001b[0m     \u001b[0;32mif\u001b[0m \u001b[0mpar\u001b[0m\u001b[0;34m-\u001b[0m\u001b[0;36m3\u001b[0m \u001b[0;34m==\u001b[0m \u001b[0mstrokes\u001b[0m\u001b[0;34m:\u001b[0m\u001b[0;34m\u001b[0m\u001b[0;34m\u001b[0m\u001b[0m\n",
      "\u001b[0;32m~/opt/anaconda3/lib/python3.9/site-packages/ipykernel/kernelbase.py\u001b[0m in \u001b[0;36mraw_input\u001b[0;34m(self, prompt)\u001b[0m\n\u001b[1;32m   1004\u001b[0m                 \u001b[0;34m\"raw_input was called, but this frontend does not support input requests.\"\u001b[0m\u001b[0;34m\u001b[0m\u001b[0;34m\u001b[0m\u001b[0m\n\u001b[1;32m   1005\u001b[0m             )\n\u001b[0;32m-> 1006\u001b[0;31m         return self._input_request(\n\u001b[0m\u001b[1;32m   1007\u001b[0m             \u001b[0mstr\u001b[0m\u001b[0;34m(\u001b[0m\u001b[0mprompt\u001b[0m\u001b[0;34m)\u001b[0m\u001b[0;34m,\u001b[0m\u001b[0;34m\u001b[0m\u001b[0;34m\u001b[0m\u001b[0m\n\u001b[1;32m   1008\u001b[0m             \u001b[0mself\u001b[0m\u001b[0;34m.\u001b[0m\u001b[0m_parent_ident\u001b[0m\u001b[0;34m[\u001b[0m\u001b[0;34m\"shell\"\u001b[0m\u001b[0;34m]\u001b[0m\u001b[0;34m,\u001b[0m\u001b[0;34m\u001b[0m\u001b[0;34m\u001b[0m\u001b[0m\n",
      "\u001b[0;32m~/opt/anaconda3/lib/python3.9/site-packages/ipykernel/kernelbase.py\u001b[0m in \u001b[0;36m_input_request\u001b[0;34m(self, prompt, ident, parent, password)\u001b[0m\n\u001b[1;32m   1049\u001b[0m             \u001b[0;32mexcept\u001b[0m \u001b[0mKeyboardInterrupt\u001b[0m\u001b[0;34m:\u001b[0m\u001b[0;34m\u001b[0m\u001b[0;34m\u001b[0m\u001b[0m\n\u001b[1;32m   1050\u001b[0m                 \u001b[0;31m# re-raise KeyboardInterrupt, to truncate traceback\u001b[0m\u001b[0;34m\u001b[0m\u001b[0;34m\u001b[0m\u001b[0m\n\u001b[0;32m-> 1051\u001b[0;31m                 \u001b[0;32mraise\u001b[0m \u001b[0mKeyboardInterrupt\u001b[0m\u001b[0;34m(\u001b[0m\u001b[0;34m\"Interrupted by user\"\u001b[0m\u001b[0;34m)\u001b[0m \u001b[0;32mfrom\u001b[0m \u001b[0;32mNone\u001b[0m\u001b[0;34m\u001b[0m\u001b[0;34m\u001b[0m\u001b[0m\n\u001b[0m\u001b[1;32m   1052\u001b[0m             \u001b[0;32mexcept\u001b[0m \u001b[0mException\u001b[0m\u001b[0;34m:\u001b[0m\u001b[0;34m\u001b[0m\u001b[0;34m\u001b[0m\u001b[0m\n\u001b[1;32m   1053\u001b[0m                 \u001b[0mself\u001b[0m\u001b[0;34m.\u001b[0m\u001b[0mlog\u001b[0m\u001b[0;34m.\u001b[0m\u001b[0mwarning\u001b[0m\u001b[0;34m(\u001b[0m\u001b[0;34m\"Invalid Message:\"\u001b[0m\u001b[0;34m,\u001b[0m \u001b[0mexc_info\u001b[0m\u001b[0;34m=\u001b[0m\u001b[0;32mTrue\u001b[0m\u001b[0;34m)\u001b[0m\u001b[0;34m\u001b[0m\u001b[0;34m\u001b[0m\u001b[0m\n",
      "\u001b[0;31mKeyboardInterrupt\u001b[0m: Interrupted by user"
     ]
    }
   ],
   "source": [
    "print(\">> Use this tool to give you feedback on how you golfed\")\n",
    "hole = 1\n",
    "while hole <= 18:\n",
    "    print(\">> Hole\", hole, \"performance\")\n",
    "    determine_golf_performance()\n",
    "    hole += 1"
   ]
  },
  {
   "cell_type": "code",
   "execution_count": null,
   "metadata": {},
   "outputs": [],
   "source": []
  }
 ],
 "metadata": {
  "kernelspec": {
   "display_name": "base",
   "language": "python",
   "name": "python3"
  },
  "language_info": {
   "codemirror_mode": {
    "name": "ipython",
    "version": 3
   },
   "file_extension": ".py",
   "mimetype": "text/x-python",
   "name": "python",
   "nbconvert_exporter": "python",
   "pygments_lexer": "ipython3",
   "version": "3.9.7"
  }
 },
 "nbformat": 4,
 "nbformat_minor": 2
}
